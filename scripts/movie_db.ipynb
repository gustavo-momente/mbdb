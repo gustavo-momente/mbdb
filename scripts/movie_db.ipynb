{
 "metadata": {
  "name": "",
  "signature": "sha256:64b0e81ebf4a88ed838593aa758eca5b8e412f180c9ea51f0f9eb91cf32955a2"
 },
 "nbformat": 3,
 "nbformat_minor": 0,
 "worksheets": [
  {
   "cells": [
    {
     "cell_type": "code",
     "collapsed": false,
     "input": [
      "#! python\n",
      "# -*- coding: latin-1 -*-\n",
      "import os\n",
      "from guessit import guess_file_info\n",
      "import codecs\n",
      "from datetime import datetime\n",
      "import enzyme\n",
      "import json\n",
      "import re\n",
      "import math\n",
      "from ffprobe import FFProbe\n",
      "from avMetadataInfo import mediaObject\n",
      "import time\n",
      "import locale, unicodedata\n",
      "import imdb\n",
      "import pickle"
     ],
     "language": "python",
     "metadata": {},
     "outputs": [],
     "prompt_number": 60
    },
    {
     "cell_type": "code",
     "collapsed": false,
     "input": [
      "def userAgrees(p1, p2):\n",
      "    while True:\n",
      "        in_ = raw_input(u\"{}  is {} ? \".format(p1, p2))\n",
      "        if  in_ == \"\" or in_ == \"True\" or in_ == \"true\" or in_ == \"yes\" or in_ == \"y\" or in_ == \"Y\" or in_ == \"Yes\":\n",
      "            return True\n",
      "        elif in_ == \"False\" or in_ == \"false\" or in_ == \"no\" or in_ == \"n\" or in_ == \"N\" or in_ == \"No\":\n",
      "            return False"
     ],
     "language": "python",
     "metadata": {},
     "outputs": [],
     "prompt_number": 61
    },
    {
     "cell_type": "code",
     "collapsed": false,
     "input": [
      "def convertSize(size):\n",
      "    s = round(float(size)/long(1073741824), 2)\n",
      "    return '%s %s' % (s,\"GB\")\n",
      "#    size_name = (\"B\", \"KB\", \"MB\", \"GB\", \"TB\", \"PB\", \"EB\", \"ZB\", \"YB\")\n",
      "#    i = int(math.floor(math.log(size,1024)))\n",
      "#    p = math.pow(1024,i)\n",
      "#    s = round(size/p,2)\n",
      "#    if (s > 0):\n",
      "#        return '%s %s' % (s,size_name[i])\n",
      "#    else:\n",
      "#        return '0B'"
     ],
     "language": "python",
     "metadata": {},
     "outputs": [],
     "prompt_number": 62
    },
    {
     "cell_type": "code",
     "collapsed": false,
     "input": [
      "def getUser(path):\n",
      "    with open(path, 'r') as f:\n",
      "        a = f.read().strip()\n",
      "    data = a.split(';')\n",
      "    return (data[0], data[1])"
     ],
     "language": "python",
     "metadata": {},
     "outputs": [],
     "prompt_number": 63
    },
    {
     "cell_type": "code",
     "collapsed": false,
     "input": [
      "def sec2hours(seconds):\n",
      "    m, s = divmod(seconds, 60)\n",
      "    h, m = divmod(m, 60)\n",
      "    return \"%02d:%02d:%02d\" % (h, m, s)"
     ],
     "language": "python",
     "metadata": {},
     "outputs": [],
     "prompt_number": 64
    },
    {
     "cell_type": "code",
     "collapsed": false,
     "input": [
      "def get_files(folder, checked_files=[], file_types=[\".mp4\", \".mkv\", \".avi\"], min_size=long(100000000)):\n",
      "    files = []\n",
      "    for root, dirs, _files in os.walk(folder):\n",
      "        for name in _files:\n",
      "            if os.path.join(root, name) not in checked_files and name not in checked_files:\n",
      "                for ftype in file_types:\n",
      "                    if name.endswith(ftype):\n",
      "                        fsize = os.path.getsize(os.path.join(root, name))\n",
      "                        if fsize > min_size:\n",
      "                            files.append((os.path.join(root, name), convertSize(fsize), name))\n",
      "                            checked_files.append(name)\n",
      "                        break\n",
      "    \n",
      "    return files"
     ],
     "language": "python",
     "metadata": {},
     "outputs": [],
     "prompt_number": 65
    },
    {
     "cell_type": "code",
     "collapsed": false,
     "input": [
      "def get_data(files, min_runtime=5):\n",
      "    prog = re.compile('sample', flags=re.IGNORECASE)\n",
      "    notwatched = re.compile(u'n\u00e3o visto', flags=re.IGNORECASE)\n",
      "    jdata = []\n",
      "    data_keys = ['container', 'screenSize', 'format', 'releaseGroup', 'year']\n",
      "    json_keys = {'container' : \"fileType\", 'screenSize' : \"resolution\", 'format' : \"format\", 'releaseGroup' : \"releaseGroup\", 'year' : 'year'}\n",
      "    swipe = []\n",
      "    for count in xrange(len(files)):\n",
      "        pair = files[count]\n",
      "        x = pair[0]\n",
      "        try:\n",
      "            tmp = guess_file_info(x, type='movie')\n",
      "        except UnicodeDecodeError as e:\n",
      "            normalized_x = unicodedata.normalize('NFKD', x).encode(locale.getpreferredencoding(),'ignore')\n",
      "            tmp = guess_file_info(normalized_x, type='movie')\n",
      "        tdic = {}\n",
      "        try:\n",
      "            title = tmp['title']\n",
      "        except KeyError as e:\n",
      "            print x\n",
      "            print tmp.nice_string()\n",
      "        try:\n",
      "            rg = tmp['releaseGroup']\n",
      "            aws = prog.search(rg)\n",
      "            if aws:\n",
      "                swipe.append(count)\n",
      "                continue\n",
      "        except KeyError:\n",
      "            pass\n",
      "\n",
      "        tdic['movie'] = title\n",
      "        tdic['fileName'] = pair[2]\n",
      "        tdic['fileSize'] = pair[1]\n",
      "        for key in data_keys:\n",
      "            try:\n",
      "                tdic[json_keys[key]] = tmp[key]\n",
      "            except KeyError:\n",
      "                tdic[json_keys[key]] = \"\"\n",
      "        \n",
      "\n",
      "        metadata = mediaObject(pair[0].encode(locale.getpreferredencoding()))\n",
      "        if metadata.getVideoCodec() is None:\n",
      "            swipe.append(count)\n",
      "            continue\n",
      "            \n",
      "        tlenght = time.strptime(metadata.getTotalRunningTimeRaw()[:-3], \"%H:%M:%S\")\n",
      "        \n",
      "        try:\n",
      "            tdic['bitrateKbps'] = metadata.getVideoBitRate()/1000\n",
      "        except ValueError:\n",
      "            tdic['bitrateKbps'] = 8*metadata.getFileSize()/(1000 * (tlenght.tm_hour * 3600 + tlenght.tm_min *60 + tlenght.tm_sec))\n",
      "        \n",
      "        tdic['height'] = metadata.getVideoResolutionHeight()\n",
      "        tdic['width'] = metadata.getVideoResolutionWidth()\n",
      "        tdic['runtime'] = tlenght.tm_hour * 60 + tlenght.tm_min + math.trunc(float(tlenght.tm_sec)/60)       \n",
      "        if tdic['runtime'] < min_runtime:\n",
      "            swipe.append(count)\n",
      "            continue\n",
      "        wreg = notwatched.search(x)\n",
      "        if wreg:\n",
      "            tdic['watched'] = False\n",
      "        else:\n",
      "            tdic['watched'] = True\n",
      "        \n",
      "        jdata.append(tdic)\n",
      "    print swipe\n",
      "    return jdata, swipe"
     ],
     "language": "python",
     "metadata": {},
     "outputs": [],
     "prompt_number": 66
    },
    {
     "cell_type": "code",
     "collapsed": false,
     "input": [
      "folder = u\"C:/Users/Usuario/Downloads/Filmes\"\n",
      "files = get_files(folder) + get_files(u\"F:/Backup/Bibliotecas/Filmes/Vistos\") + get_files(u\"F:/Backup/Bibliotecas/Filmes/N\u00e3o Vistos\") \n",
      "print len(files)\n",
      "(jdata, swipe) = get_data(files)\n",
      "\n",
      "c = 0\n",
      "for pos in swipe:\n",
      "    del files[pos+c]\n",
      "    c -= 1\n",
      "print len(files)"
     ],
     "language": "python",
     "metadata": {},
     "outputs": [
      {
       "output_type": "stream",
       "stream": "stdout",
       "text": [
        "195\n",
        "[]"
       ]
      },
      {
       "output_type": "stream",
       "stream": "stdout",
       "text": [
        "\n",
        "195\n"
       ]
      }
     ],
     "prompt_number": 67
    },
    {
     "cell_type": "code",
     "collapsed": false,
     "input": [
      "used = []\n",
      "manual_id = {}\n",
      "u_agree_db = {}\n",
      "ia = imdb.IMDb() # by default access the web."
     ],
     "language": "python",
     "metadata": {},
     "outputs": [],
     "prompt_number": 68
    },
    {
     "cell_type": "code",
     "collapsed": false,
     "input": [
      "for i in xrange(len(jdata)):\n",
      "    if i in used:\n",
      "        continue\n",
      "    movie = jdata[i]\n",
      "    mtitle = movie['movie']\n",
      "    year = movie['year']\n",
      "    item = None\n",
      "    try:\n",
      "        items = ia.search_movie(u\"{} {}\".format(mtitle, year), 6)\n",
      "        for sitem in items:\n",
      "            if sitem['kind'] == 'movie':\n",
      "                item = sitem\n",
      "                break\n",
      "        if item is None:\n",
      "            raise IndexError\n",
      "        try:\n",
      "            flag = u_agree_db[files[i][2]]\n",
      "        except KeyError:\n",
      "            flag = userAgrees(files[i][2], item['long imdb title'])\n",
      "            u_agree_db[files[i][2]] = flag\n",
      "        if not flag:\n",
      "            raise IndexError\n",
      "    except IndexError:\n",
      "        if files[i][2] in manual_id:\n",
      "            item = ia.get_movie(manual_id[files[i][0]])\n",
      "        else:\n",
      "            print u\"I couldn't find the data for {}, please manually enter imdbID\".format(files[i][0])\n",
      "            in_ = raw_input(\"IMDB id: \").lstrip(\"tt\")\n",
      "            manual_id[files[i][2]] = in_\n",
      "            item = ia.get_movie(in_)\n",
      "        print mtitle, \"\\t\", item['long imdb title']\n",
      "    ia.update(item)\n",
      "    jdata[i]['movieImdb'] = item['long imdb title']\n",
      "    jdata[i]['movieLink'] = u'<a title=\"{}\" href=\"{}\" target=\"_blank\">{}</a>'.format(jdata[i]['movieImdb'], ia.get_imdbURL(item), jdata[i]['movieImdb'])\n",
      "    jdata[i]['id'] = item.movieID\n",
      "    jdata[i]['year'] = int(item['year'])\n",
      "    try:\n",
      "        jdata[i]['rating'] = item['rating']\n",
      "    except KeyError:\n",
      "        jdata[i]['rating'] = 0\n",
      "    used.append(i)"
     ],
     "language": "python",
     "metadata": {},
     "outputs": [],
     "prompt_number": 90
    },
    {
     "cell_type": "code",
     "collapsed": false,
     "input": [
      "jdata_sorted = sorted(jdata, key= lambda x:x['movieImdb'])\n",
      "aa = json.dumps(jdata_sorted, sort_keys = True, indent = 4, ensure_ascii=False)\n",
      "json.dump(jdata_sorted, codecs.open('json_data/mvdata.json', 'w', 'utf-8'), sort_keys = True, indent = 4, ensure_ascii=False)\n",
      "json.dump(jdata_sorted, codecs.open('../../movie_html/json_data/mvdata.json', 'w', 'utf-8'), sort_keys = True, indent = 4, ensure_ascii=False)"
     ],
     "language": "python",
     "metadata": {},
     "outputs": [],
     "prompt_number": 88
    },
    {
     "cell_type": "code",
     "collapsed": false,
     "input": [
      "pickle.dump(manual_id, open(\"manual_id.bak\", \"wb\"))\n",
      "pickle.dump(u_agree_db, open(\"u_agree_db.bak\", \"wb\"))\n",
      "pickle.dump(jdata, open(\"jdata.bak\", \"wb\"))"
     ],
     "language": "python",
     "metadata": {},
     "outputs": [],
     "prompt_number": 89
    },
    {
     "cell_type": "code",
     "collapsed": false,
     "input": [
      "manual_id = pickle.load(open(\"manual_id.bak\", \"rb\"))\n",
      "u_agree_db= pickle.load(open(\"u_agree_db.bak\", \"rb\"))"
     ],
     "language": "python",
     "metadata": {},
     "outputs": [],
     "prompt_number": 10
    }
   ],
   "metadata": {}
  }
 ]
}