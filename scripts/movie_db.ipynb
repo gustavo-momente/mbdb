{
 "metadata": {
  "name": "",
  "signature": "sha256:7a780cbc3e818b8ce3b95bf19845a745cc2e9a6e1a1cf024425498a5d0df42ff"
 },
 "nbformat": 3,
 "nbformat_minor": 0,
 "worksheets": [
  {
   "cells": [
    {
     "cell_type": "code",
     "collapsed": false,
     "input": [
      "#! python\n",
      "# -*- coding: latin-1 -*-\n",
      "import os\n",
      "from guessit import guess_file_info\n",
      "import codecs\n",
      "from datetime import datetime\n",
      "import enzyme\n",
      "import json\n",
      "import re\n",
      "import math\n",
      "from ffprobe import FFProbe\n",
      "from avMetadataInfo import mediaObject\n",
      "import time\n",
      "import locale, unicodedata\n",
      "import imdb"
     ],
     "language": "python",
     "metadata": {},
     "outputs": [],
     "prompt_number": 110
    },
    {
     "cell_type": "code",
     "collapsed": false,
     "input": [
      "def userAgrees(p1, p2):\n",
      "    while True:\n",
      "        in_ = raw_input(u\"{}  is {} ? \".format(p1, p2))\n",
      "        if  in_ == \"\" or in_ == \"True\" or in_ == \"true\" or in_ == \"yes\" or in_ == \"y\" or in_ == \"Y\" or in_ == \"Yes\":\n",
      "            return True\n",
      "        elif in_ == \"False\" or in_ == \"false\" or in_ == \"no\" or in_ == \"n\" or in_ == \"N\" or in_ == \"No\":\n",
      "            return False"
     ],
     "language": "python",
     "metadata": {},
     "outputs": [],
     "prompt_number": 125
    },
    {
     "cell_type": "code",
     "collapsed": false,
     "input": [
      "def convertSize(size):\n",
      "    s = round(float(size)/long(1073741824), 2)\n",
      "    return '%s %s' % (s,\"GB\")\n",
      "#    size_name = (\"B\", \"KB\", \"MB\", \"GB\", \"TB\", \"PB\", \"EB\", \"ZB\", \"YB\")\n",
      "#    i = int(math.floor(math.log(size,1024)))\n",
      "#    p = math.pow(1024,i)\n",
      "#    s = round(size/p,2)\n",
      "#    if (s > 0):\n",
      "#        return '%s %s' % (s,size_name[i])\n",
      "#    else:\n",
      "#        return '0B'"
     ],
     "language": "python",
     "metadata": {},
     "outputs": [],
     "prompt_number": 111
    },
    {
     "cell_type": "code",
     "collapsed": false,
     "input": [
      "def getUser(path):\n",
      "    with open(path, 'r') as f:\n",
      "        a = f.read().strip()\n",
      "    data = a.split(';')\n",
      "    return (data[0], data[1])"
     ],
     "language": "python",
     "metadata": {},
     "outputs": [],
     "prompt_number": 112
    },
    {
     "cell_type": "code",
     "collapsed": false,
     "input": [
      "def sec2hours(seconds):\n",
      "    m, s = divmod(seconds, 60)\n",
      "    h, m = divmod(m, 60)\n",
      "    return \"%02d:%02d:%02d\" % (h, m, s)"
     ],
     "language": "python",
     "metadata": {},
     "outputs": [],
     "prompt_number": 113
    },
    {
     "cell_type": "code",
     "collapsed": false,
     "input": [
      "def get_files(folder, checked_files=[], file_types=[\".mp4\", \".mkv\", \".avi\"], min_size=long(100000000)):\n",
      "    files = []\n",
      "    for root, dirs, _files in os.walk(folder):\n",
      "        for name in _files:\n",
      "            if os.path.join(root, name) not in checked_files and name not in checked_files:\n",
      "                for ftype in file_types:\n",
      "                    if name.endswith(ftype):\n",
      "                        fsize = os.path.getsize(os.path.join(root, name))\n",
      "                        if fsize > min_size:\n",
      "                            files.append((os.path.join(root, name), convertSize(fsize), name))\n",
      "                            checked_files.append(name)\n",
      "                        break\n",
      "    \n",
      "    return files"
     ],
     "language": "python",
     "metadata": {},
     "outputs": [],
     "prompt_number": 114
    },
    {
     "cell_type": "code",
     "collapsed": false,
     "input": [
      "def get_data(files, min_runtime=5):\n",
      "    prog = re.compile('sample', flags=re.IGNORECASE)\n",
      "    jdata = []\n",
      "    data_keys = ['container', 'screenSize', 'format', 'releaseGroup', 'year']\n",
      "    json_keys = {'container' : \"fileType\", 'screenSize' : \"resolution\", 'format' : \"format\", 'releaseGroup' : \"releaseGroup\", 'year' : 'year'}\n",
      "    swipe = []\n",
      "    for count in xrange(len(files)):\n",
      "        pair = files[count]\n",
      "        x = pair[0]\n",
      "        try:\n",
      "            tmp = guess_file_info(x, type='movie')\n",
      "        except UnicodeDecodeError as e:\n",
      "            normalized_x = unicodedata.normalize('NFKD', x).encode(locale.getpreferredencoding(),'ignore')\n",
      "            tmp = guess_file_info(normalized_x, type='movie')\n",
      "        tdic = {}\n",
      "        try:\n",
      "            title = tmp['title']\n",
      "        except KeyError as e:\n",
      "            print x\n",
      "            print tmp.nice_string()\n",
      "        try:\n",
      "            rg = tmp['releaseGroup']\n",
      "            aws = prog.search(rg)\n",
      "            if aws:\n",
      "                swipe.append(count)\n",
      "                continue\n",
      "        except KeyError:\n",
      "            pass\n",
      "\n",
      "        tdic['movie'] = title\n",
      "        tdic['fileName'] = pair[2]\n",
      "        tdic['fileSize'] = pair[1]\n",
      "        for key in data_keys:\n",
      "            try:\n",
      "                tdic[json_keys[key]] = tmp[key]\n",
      "            except KeyError:\n",
      "                tdic[json_keys[key]] = \"\"\n",
      "        \n",
      "\n",
      "        metadata = mediaObject(pair[0].encode(locale.getpreferredencoding()))\n",
      "        if metadata.getVideoCodec() is None:\n",
      "            swipe.append(count)\n",
      "            continue\n",
      "            \n",
      "        tlenght = time.strptime(metadata.getTotalRunningTimeRaw()[:-3], \"%H:%M:%S\")\n",
      "        \n",
      "        \n",
      "        try:\n",
      "            tdic['bitrateKbps'] = metadata.getVideoBitRate()/1000\n",
      "        except ValueError:\n",
      "            tdic['bitrateKbps'] = 8*metadata.getFileSize()/(1000 * (tlenght.tm_hour * 3600 + tlenght.tm_min *60 + tlenght.tm_sec))\n",
      "        \n",
      "        tdic['height'] = metadata.getVideoResolutionHeight()\n",
      "        tdic['width'] = metadata.getVideoResolutionWidth()\n",
      "        tdic['runtime'] = tlenght.tm_hour * 60 + tlenght.tm_min + math.trunc(float(tlenght.tm_sec)/60)       \n",
      "        if tdic['runtime'] < min_runtime:\n",
      "            swipe.append(count)\n",
      "            continue\n",
      "        jdata.append(tdic)\n",
      "    print swipe\n",
      "    return jdata, swipe"
     ],
     "language": "python",
     "metadata": {},
     "outputs": [],
     "prompt_number": 115
    },
    {
     "cell_type": "code",
     "collapsed": false,
     "input": [
      "folder = u\"C:/Users/Usuario/Downloads/Filmes\"\n",
      "files = get_files(folder) + get_files(u\"F:/Backup/Bibliotecas/Filmes/Vistos\") + get_files(u\"F:/Backup/Bibliotecas/Filmes/N\u00e3o Vistos\") \n",
      "(jdata, swipe) = get_data(files)\n",
      "\n",
      "c = 0\n",
      "for pos in swipe:\n",
      "    del files[pos+c]\n",
      "    c += 1"
     ],
     "language": "python",
     "metadata": {},
     "outputs": [],
     "prompt_number": 116
    },
    {
     "cell_type": "code",
     "collapsed": false,
     "input": [
      "jdata_sorted = sorted(jdata, key= lambda x:x['movie'])\n",
      "aa = json.dumps(jdata_sorted, sort_keys = True, indent = 4, ensure_ascii=False)\n",
      "json.dump(jdata_sorted, codecs.open('json_data/mvdata.json', 'w', 'utf-8'), sort_keys = True, indent = 4, ensure_ascii=False)\n",
      "json.dump(jdata_sorted, codecs.open('../../movie_html/json_data/mvdata.json', 'w', 'utf-8'), sort_keys = True, indent = 4, ensure_ascii=False)"
     ],
     "language": "python",
     "metadata": {},
     "outputs": [],
     "prompt_number": 165
    },
    {
     "cell_type": "code",
     "collapsed": false,
     "input": [
      "used = []\n",
      "# manual_id = {}\n",
      "# u_agree_db = {}\n",
      "ia = imdb.IMDb() # by default access the web."
     ],
     "language": "python",
     "metadata": {},
     "outputs": [],
     "prompt_number": 162
    },
    {
     "cell_type": "code",
     "collapsed": false,
     "input": [
      "for i in xrange(len(jdata)):\n",
      "    if i in used:\n",
      "        continue\n",
      "    movie = jdata[i]\n",
      "    mtitle = movie['movie']\n",
      "    year = movie['year']\n",
      "    item = None\n",
      "    try:\n",
      "        items = ia.search_movie(u\"{} {}\".format(mtitle, year), 6)\n",
      "        for sitem in items:\n",
      "            if sitem['kind'] == 'movie':\n",
      "                item = sitem\n",
      "                break\n",
      "        if item is None:\n",
      "            raise IndexError\n",
      "        try:\n",
      "            flag = u_agree_db[files[i][2]]\n",
      "        except KeyError:\n",
      "            flag = userAgrees(files[i][2], item['long imdb title'])\n",
      "            u_agree_db[files[i][2]] = flag\n",
      "        if not flag:\n",
      "            raise IndexError\n",
      "    except IndexError:\n",
      "        if files[i][0] in manual_id:\n",
      "            item = ia.get_movie(manual_id[files[i][0]])\n",
      "        else:\n",
      "            print u\"I couldn't find the data for {}, please manually enter imdbID\".format(files[i][0])\n",
      "            in_ = raw_input(\"IMDB id: \").lstrip(\"tt\")\n",
      "            manual_id[files[i][0]] = in_\n",
      "            item = ia.get_movie(in_)\n",
      "        print mtitle, \"\\t\", item['long imdb title']\n",
      "    ia.update(item)\n",
      "    jdata[i]['movie'] = item['long imdb title']\n",
      "    jdata[i]['movieLink'] = u'<a title=\"{}\" href=\"{}\" target=\"_blank\">{}</a>'.format(jdata[i]['movie'], ia.get_imdbURL(item), jdata[i]['movie'])\n",
      "    jdata[i]['id'] = item.movieID\n",
      "    jdata[i]['year'] = int(item['year'])\n",
      "    try:\n",
      "        jdata[i]['rating'] = item['rating']\n",
      "    except KeyError:\n",
      "        jdata[i]['rating'] = 0\n",
      "    used.append(i)"
     ],
     "language": "python",
     "metadata": {},
     "outputs": [
      {
       "output_type": "stream",
       "stream": "stdout",
       "text": [
        "8\u00bd (1963) \t8\u00bd (1963)\n",
        "I couldn't find the data for C:/Users/Usuario/Downloads/Filmes\\N\u00e3o Vistos\\Frank 2014 1080p BRRip x264 AC3-JYK\\Frank 2014 1080p BRRip x264 AC3-JYK.mkv, please manually enter imdbID"
       ]
      },
      {
       "output_type": "stream",
       "stream": "stdout",
       "text": [
        "\n"
       ]
      },
      {
       "name": "stdout",
       "output_type": "stream",
       "stream": "stdout",
       "text": [
        "IMDB id: 1605717\n"
       ]
      },
      {
       "output_type": "stream",
       "stream": "stdout",
       "text": [
        "Frank (II) (2014) \tFrank (II) (2014)\n",
        "I couldn't find the data for C:/Users/Usuario/Downloads/Filmes\\N\u00e3o Vistos\\Tabu.2012.720p.BluRay.DD5.1.x264-PublicHD\\tabu.2012.720p.bluray.dd5.1.x264-publichd.mkv, please manually enter imdbID"
       ]
      },
      {
       "output_type": "stream",
       "stream": "stdout",
       "text": [
        "\n"
       ]
      },
      {
       "name": "stdout",
       "output_type": "stream",
       "stream": "stdout",
       "text": [
        "IMDB id: 2153963\n"
       ]
      },
      {
       "output_type": "stream",
       "stream": "stdout",
       "text": [
        "Tabu (I) (2012) \tTabu (I) (2012)\n",
        "Argo (2012)"
       ]
      },
      {
       "output_type": "stream",
       "stream": "stdout",
       "text": [
        " \tArgo (2012)\n",
        "Beginners (2010)"
       ]
      },
      {
       "output_type": "stream",
       "stream": "stdout",
       "text": [
        " \tBeginners (2010)\n",
        "Cheap Magic Inside (2011)"
       ]
      },
      {
       "output_type": "stream",
       "stream": "stdout",
       "text": [
        " \tCheap Magic Inside (2011)\n",
        "Black Swan (2010)"
       ]
      },
      {
       "output_type": "stream",
       "stream": "stdout",
       "text": [
        " \tBlack Swan (2010)\n",
        "I couldn't find the data for F:/Backup/Bibliotecas/Filmes/Vistos\\Boyhood (2014) [1080p]\\Boyhood.2014.1080p.BluRay.x264.YIFY.mp4, please manually enter imdbID"
       ]
      },
      {
       "output_type": "stream",
       "stream": "stdout",
       "text": [
        "\n"
       ]
      },
      {
       "name": "stdout",
       "output_type": "stream",
       "stream": "stdout",
       "text": [
        "IMDB id: 1065073\n"
       ]
      },
      {
       "output_type": "stream",
       "stream": "stdout",
       "text": [
        "Boyhood (I) (2014) \tBoyhood (I) (2014)\n"
       ]
      },
      {
       "name": "stdout",
       "output_type": "stream",
       "stream": "stdout",
       "text": [
        "yve-casablanca.1942.720p.x264.mkv  is Casablanca (1942) ? \n"
       ]
      },
      {
       "name": "stdout",
       "output_type": "stream",
       "stream": "stdout",
       "text": [
        "Chinatown.avi  is Chinatown (1974) ? \n"
       ]
      },
      {
       "output_type": "stream",
       "stream": "stdout",
       "text": [
        "Como Esquecer (2010) \tComo Esquecer (2010)\n"
       ]
      },
      {
       "name": "stdout",
       "output_type": "stream",
       "stream": "stdout",
       "text": [
        "Control.2007.LiMiTED.720p.BluRay.x264-HANGOVER.mkv  is Control (2007) ? \n"
       ]
      },
      {
       "name": "stdout",
       "output_type": "stream",
       "stream": "stdout",
       "text": [
        "Coracoes.Sujos.2013.720p.bluray.ac3.x264-lozano.mkv  is Dirty Hearts (2011) ? \n"
       ]
      },
      {
       "name": "stdout",
       "output_type": "stream",
       "stream": "stdout",
       "text": [
        "[www.telona.org-by-B4rm4n]Creation.DVDRip.Leg.avi  is Creation (I) (2009) ? \n"
       ]
      },
      {
       "name": "stdout",
       "output_type": "stream",
       "stream": "stdout",
       "text": [
        "Donnie Darko Dir Cut (2001) m720p.mkv  is Donnie Darko (2001) ? \n"
       ]
      },
      {
       "name": "stdout",
       "output_type": "stream",
       "stream": "stdout",
       "text": [
        "F4rg0 (BDrip 1080p ENG-ITA-FRA-JPN-SPA) Multisub x264 bluray (1996).mkv  is Fargo (1996) ? \n"
       ]
      },
      {
       "output_type": "stream",
       "stream": "stdout",
       "text": [
        "Gravity (2013) \tGravity (2013)\n",
        "Jeux d'enfants (2003)"
       ]
      },
      {
       "output_type": "stream",
       "stream": "stdout",
       "text": [
        " \tJeux d'enfants (2003)\n"
       ]
      },
      {
       "name": "stdout",
       "output_type": "stream",
       "stream": "stdout",
       "text": [
        "fhd-auberge720p.mkv  is The Spanish Apartment (2002) ? \n"
       ]
      },
      {
       "output_type": "stream",
       "stream": "stdout",
       "text": [
        "La grande vadrouille (1966) \tLa grande vadrouille (1966)\n",
        "Le fabuleux destin d'Am\u00e9lie Poulain (2001)"
       ]
      },
      {
       "output_type": "stream",
       "stream": "stdout",
       "text": [
        " \tLe fabuleux destin d'Am\u00e9lie Poulain (2001)\n",
        "I couldn't find the data for F:/Backup/Bibliotecas/Filmes/Vistos\\Limitless (2011)\\Limitless.2011.720p.BrRip.x264.YIFY.mp4, please manually enter imdbID"
       ]
      },
      {
       "output_type": "stream",
       "stream": "stdout",
       "text": [
        "\n"
       ]
      },
      {
       "name": "stdout",
       "output_type": "stream",
       "stream": "stdout",
       "text": [
        "IMDB id: 1219289\n"
       ]
      },
      {
       "output_type": "stream",
       "stream": "stdout",
       "text": [
        "Limitless (I) (2011) \tLimitless (I) (2011)\n",
        "Amour (2012)"
       ]
      },
      {
       "output_type": "stream",
       "stream": "stdout",
       "text": [
        " \tAmour (2012)\n",
        "Moon (2009)"
       ]
      },
      {
       "output_type": "stream",
       "stream": "stdout",
       "text": [
        " \tMoon (2009)\n",
        "O Cheiro do Ralo (2006)"
       ]
      },
      {
       "output_type": "stream",
       "stream": "stdout",
       "text": [
        " \tO Cheiro do Ralo (2006)\n",
        "O Som ao Redor (2012)"
       ]
      },
      {
       "output_type": "stream",
       "stream": "stdout",
       "text": [
        " \tO Som ao Redor (2012)\n"
       ]
      },
      {
       "name": "stdout",
       "output_type": "stream",
       "stream": "stdout",
       "text": [
        "Pan's.Labyrinth.2006.720p.BluRay.DTS.x264-FiNE.mkv  is Pan's Labyrinth (2006) ? \n"
       ]
      },
      {
       "name": "stdout",
       "output_type": "stream",
       "stream": "stdout",
       "text": [
        "PBS.POV.The City Dark.480p.HDTV.x264-KarMa.mp4  is The City Dark (2011) ? \n"
       ]
      },
      {
       "output_type": "stream",
       "stream": "stdout",
       "text": [
        "Pafekuto buru (1997) \tPafekuto buru (1997)\n",
        "Source Code (2011)"
       ]
      },
      {
       "output_type": "stream",
       "stream": "stdout",
       "text": [
        " \tSource Code (2011)\n",
        "Black Swan (2010)"
       ]
      },
      {
       "output_type": "stream",
       "stream": "stdout",
       "text": [
        " \tBlack Swan (2010)\n"
       ]
      },
      {
       "name": "stdout",
       "output_type": "stream",
       "stream": "stdout",
       "text": [
        "TheCorporation-Movie-Part1.avi  is The Corporation (2003) ? \n"
       ]
      },
      {
       "name": "stdout",
       "output_type": "stream",
       "stream": "stdout",
       "text": [
        "TheCorporation-Movie-Part2.avi  is The Corporation (2003) ? \n"
       ]
      },
      {
       "output_type": "stream",
       "stream": "stdout",
       "text": [
        "I couldn't find the data for F:/Backup/Bibliotecas/Filmes/Vistos\\The Raven (2012)\\The.Raven.2012.720p.BluRay.x264.YIFY.mp4, please manually enter imdbID\n"
       ]
      },
      {
       "name": "stdout",
       "output_type": "stream",
       "stream": "stdout",
       "text": [
        "IMDB id: 1486192\n"
       ]
      },
      {
       "output_type": "stream",
       "stream": "stdout",
       "text": [
        "The Raven (I) (2012) \tThe Raven (I) (2012)\n",
        "\u00c0 nos amours. (1983)"
       ]
      },
      {
       "output_type": "stream",
       "stream": "stdout",
       "text": [
        " \t\u00c0 nos amours. (1983)\n"
       ]
      },
      {
       "name": "stdout",
       "output_type": "stream",
       "stream": "stdout",
       "text": [
        "Withnail And I (1986).avi  is Withnail & I (1987) ? \n"
       ]
      },
      {
       "name": "stdout",
       "output_type": "stream",
       "stream": "stdout",
       "text": [
        "[BluRay Rip 720p - ITA-ENG-FRA AC3-SUB] Persepolis LiFE [m@rcomem].mkv  is Persepolis (2007) ? \n"
       ]
      },
      {
       "name": "stdout",
       "output_type": "stream",
       "stream": "stdout",
       "text": [
        "Crimes Temporais.by.badaui-UV.avi  is Timecrimes (2007) ? \n"
       ]
      },
      {
       "output_type": "stream",
       "stream": "stdout",
       "text": [
        "Deus e o Diabo na Terra do Sol (1964) \tDeus e o Diabo na Terra do Sol (1964)\n",
        "Deus e o Diabo na Terra do Sol (1964)"
       ]
      },
      {
       "output_type": "stream",
       "stream": "stdout",
       "text": [
        " \tDeus e o Diabo na Terra do Sol (1964)\n"
       ]
      },
      {
       "name": "stdout",
       "output_type": "stream",
       "stream": "stdout",
       "text": [
        "Kevin Mitnick Interview.avi  is Freedom Downtime (2001) ? \n"
       ]
      },
      {
       "name": "stdout",
       "output_type": "stream",
       "stream": "stdout",
       "text": [
        "Gran.Torino.2009.DvDRip.GELEIA_XXX_UV.avi  is Freedom Downtime (2001) ? n\n"
       ]
      },
      {
       "output_type": "stream",
       "stream": "stdout",
       "text": [
        "Freedom Downtime (2001) \tFreedom Downtime (2001)\n"
       ]
      },
      {
       "name": "stdout",
       "output_type": "stream",
       "stream": "stdout",
       "text": [
        "Gran.Torino.avi  is Gran Torino (2008) ? \n"
       ]
      },
      {
       "output_type": "stream",
       "stream": "stdout",
       "text": [
        "Beyond Citizen Kane (1993) (TV) \tBeyond Citizen Kane (1993) (TV)\n",
        "Vozvrashchenie (2003)"
       ]
      },
      {
       "output_type": "stream",
       "stream": "stdout",
       "text": [
        " \tVozvrashchenie (2003)\n"
       ]
      }
     ],
     "prompt_number": 164
    },
    {
     "cell_type": "code",
     "collapsed": false,
     "input": [
      "print jdata[0]"
     ],
     "language": "python",
     "metadata": {},
     "outputs": [
      {
       "output_type": "stream",
       "stream": "stdout",
       "text": [
        "{'rating': 8.1, 'runtime': 139, 'bitrateKbps': 8181L, 'movieImdb': u'8\\xbd (1963)', 'format': u'BluRay', 'movie': u'8\\xbd (1963)', 'fileType': u'mkv', 'fileName': u'Eight.And.A.Half.1963.720p.BluRay.x264-DiMENSiON [PublicHD].mkv', 'releaseGroup': u'DiMENSiON[PublicHD]', 'width': 1280, 'fileSize': '7.95 GB', 'year': 1963, 'height': 688, 'resolution': u'720p', 'id': '0056801'}\n"
       ]
      }
     ],
     "prompt_number": 155
    },
    {
     "cell_type": "code",
     "collapsed": false,
     "input": [
      "print u_agree_db"
     ],
     "language": "python",
     "metadata": {},
     "outputs": [
      {
       "output_type": "stream",
       "stream": "stdout",
       "text": [
        "{u'Tuesday.After.Christmas.2010.720p.WEB-DL.H264-WEBiOS.mkv': True, u\"Godard - 2 Ou 3 Choses Que Je Sais D'elle (1967)CD1.avi\": True, u'The.Fountain.2006.1080p.BluRay.x264.anoXmous_.mp4': True, u'Bad.Education.2004.720p.BluRay.x264-PHOBOS.mkv': True, u'Alice [Neco z Alenky] (1988).mp4': True, u\"Godard - 2 Ou 3 Choses Que Je Sais D'elle (1967)CD2.avi\": True, u'21.Grams.2003.Bluray.UK.720p.DTS.x264-CHD.mkv': True, u'Beginners.720p.BrRip.x264.YIFY.mp4': False, u'Beasts.of.the.Southern.Wild.2012.720p.BRRip.x264.AC3-JYK.mkv': True, u'Eight.And.A.Half.1963.720p.BluRay.x264-DiMENSiON [PublicHD].mkv': True, u'Argo.2012.720p.BluRay.x264.YIFY.mp4': False, u'Kid-Thing.2012.720p.WEB-DL.X264-WEBiOS.mkv': True, u'Amarcord (1973).mkv': True, u'A Clockwork Orange[1971]DvDrip[Eng]-FXG.avi': True, u'Local Hero.avi': True, u'2 Coelhos (2012) 720p BRrip_sujaidr.mkv': True, u'Frank 2014 1080p BRRip x264 AC3-JYK.mkv': True, u'La.Dolce.Vita.1960.720p.BluRay.AC3.x264-vHD.mkv': True, u'tabu.2012.720p.bluray.dd5.1.x264-publichd.mkv': True, u'Four.Lions.2010.LIMITED.720p.BRRiP.x264.AAC(5.1).mkv-Zen_Bud.mkv': True, u'24hr.Party.People.DVD.RIP.avi': True, u'500.Days.of.Summer.2009.720p.BluRay.DTS.x264-WiKi.mkv': True, u'American Psycho 2000 720p BRRip.mp4': True, u'Across the Universe[2007]DvDrip[Eng]-FXG.avi': True, u'Beirut.avi': False, u'Annie Hall 1977 720p HDTV DD2.0 x264-MX.mkv': True, u'The.Lego.Movie.2014.1080p.BluRay.x264.YIFY.mp4': True, u'2001.A.Space.Odyssey.avi': True, u'12 Years A Slave 2013 1080p BRRip x264 AC3-JYK.mkv': True, u\"La leggenda del pianista sull'oceano - The Legend of 1900 [BDRip-720p-Ita-Eng-Sub-Ita-Eng-Chapters][RiP By MaX].mkv\": True, u'Blue.Valentine.2010.1080p.BluRay.x264.YIFY.mp4': True, u'timky-blackswan-dvdscr.avi': False, u'alli-education-720p.mkv': True, u'wira-aitokyo.avi': True}\n"
       ]
      }
     ],
     "prompt_number": 127
    },
    {
     "cell_type": "code",
     "collapsed": false,
     "input": [
      "print swipe"
     ],
     "language": "python",
     "metadata": {},
     "outputs": [
      {
       "output_type": "stream",
       "stream": "stdout",
       "text": [
        "[66, 148]\n"
       ]
      }
     ],
     "prompt_number": 129
    },
    {
     "cell_type": "code",
     "collapsed": false,
     "input": [
      "print u_agree_db[\"Gran.Torino.2009.DvDRip.GELEIA_XXX_UV.avi\"]"
     ],
     "language": "python",
     "metadata": {},
     "outputs": [
      {
       "ename": "KeyError",
       "evalue": "'Gran.Torino.2009.DvDRip.GELEIA_XXX_UV.avi'",
       "output_type": "pyerr",
       "traceback": [
        "\u001b[1;31m---------------------------------------------------------------------------\u001b[0m\n\u001b[1;31mKeyError\u001b[0m                                  Traceback (most recent call last)",
        "\u001b[1;32m<ipython-input-134-a7ffebfc7f30>\u001b[0m in \u001b[0;36m<module>\u001b[1;34m()\u001b[0m\n\u001b[1;32m----> 1\u001b[1;33m \u001b[1;32mprint\u001b[0m \u001b[0mu_agree_db\u001b[0m\u001b[1;33m[\u001b[0m\u001b[1;34m\"Gran.Torino.2009.DvDRip.GELEIA_XXX_UV.avi\"\u001b[0m\u001b[1;33m]\u001b[0m\u001b[1;33m\u001b[0m\u001b[0m\n\u001b[0m",
        "\u001b[1;31mKeyError\u001b[0m: 'Gran.Torino.2009.DvDRip.GELEIA_XXX_UV.avi'"
       ]
      }
     ],
     "prompt_number": 134
    },
    {
     "cell_type": "code",
     "collapsed": false,
     "input": [
      "for f in manual_id:\n",
      "    print f\n",
      "    print u\"http://www.imdb.com/title/tt{}\".format(manual_id[f])"
     ],
     "language": "python",
     "metadata": {},
     "outputs": [
      {
       "output_type": "stream",
       "stream": "stdout",
       "text": [
        "F:/Backup/Bibliotecas/Filmes/Vistos\\[BluRay Rip 720p - ITA-ENG-FRA AC3-SUB] Persepolis LiFE [m@rcomem]\\[BluRay Rip 720p - ITA-ENG-FRA AC3-SUB] Persepolis LiFE [m@rcomem].mkv\n",
        "http://www.imdb.com/title/tt0808417\n",
        "F:/Backup/Bibliotecas/Filmes/N\u00e3o Vistos\\Deus E O Diabo Na Terra Do Sol (Glauber Rocha, 1964)\\Deus.E.O.Diabo.Na.Terra.Do.Sol.CD2.DVDXviD-ARKHE.avi\n",
        "http://www.imdb.com/title/tt0058006\n",
        "F:/Backup/Bibliotecas/Filmes/N\u00e3o Vistos\\Vozvrashchenie [The Return] [2003] DvDRip XviD AC3 - CODY\\Vozvrashchenie [The Return] [2003] DvDRip XviD AC3 - CODY.avi\n",
        "http://www.imdb.com/title/tt0376968\n",
        "F:/Backup/Bibliotecas/Filmes/Vistos\\BeirutCMI-1\\Beirut.avi\n",
        "http://www.imdb.com/title/tt4272988\n",
        "F:/Backup/Bibliotecas/Filmes/Vistos\\Como Esquecer\\Como Esquecer.avi\n",
        "http://www.imdb.com/title/tt1735853\n",
        "F:/Backup/Bibliotecas/Filmes/Vistos\\Le Fabuleux Destin d'Amelie Poulain - Amelie\\Le Fabuleux Destin d'Amelie Poulain - Amelie.avi\n",
        "http://www.imdb.com/title/tt0211915\n",
        "F:/Backup/Bibliotecas/Filmes/Vistos\\To.Our.Loves.1983.720p.BluRay.x264-ROUGH [PublicHD]\\a.nos.amours.1983.french.720p.bluray.x264-rough.mkv\n",
        "http://www.imdb.com/title/tt0086650\n",
        "F:/Backup/Bibliotecas/Filmes/Vistos\\Argo (2012)\\Argo.2012.720p.BluRay.x264.YIFY.mp4\n",
        "http://www.imdb.com/title/tt1024648\n",
        "F:/Backup/Bibliotecas/Filmes/Vistos\\Beginners (2011)\\Beginners.720p.BrRip.x264.YIFY.mp4\n",
        "http://www.imdb.com/title/tt1532503\n",
        "F:/Backup/Bibliotecas/Filmes/Vistos\\The Corporation Filmmakers Official Download Edition - DIVX\\TheCorporation-Movie-Part2.avi\n",
        "http://www.imdb.com/title/tt0379225\n",
        "F:/Backup/Bibliotecas/Filmes/Vistos\\Gravity.2013.1080p.WEB-DL.H264-PublicHD\\Gravity.2013.1080p.WEB-DL.H264-PublicHD.mkv\n",
        "http://www.imdb.com/title/tt1454468\n",
        "F:/Backup/Bibliotecas/Filmes/Vistos\\Love.[Amour].2012.BRRip.AC3.HORiZON\\Love.[Amour].2012.BRRip.AC3.HORiZON.avi\n",
        "http://www.imdb.com/title/tt1602620\n",
        "F:/Backup/Bibliotecas/Filmes/Vistos\\Chinatown.Roman.Polanski.1974.720p.Xvid.Ac3.2.0.HDTV.Jatin17\\Chinatown.avi\n",
        "http://www.imdb.com/title/tt0071315\n",
        "F:/Backup/Bibliotecas/Filmes/N\u00e3o Vistos\\Crimes Temporais.by.badaui-UV\\Crimes Temporais.by.badaui-UV.avi\n",
        "http://www.imdb.com/title/tt0480669\n",
        "F:/Backup/Bibliotecas/Filmes/Vistos\\O.Cheiro.do.Ralo.DVDRip.XviD-pedr1nho\\O.Cheiro.do.Ralo.DVDRip.XviD-pedr1nho.avi\n",
        "http://www.imdb.com/title/tt0489458\n",
        "F:/Backup/Bibliotecas/Filmes/N\u00e3o Vistos\\Deus E O Diabo Na Terra Do Sol (Glauber Rocha, 1964)\\Deus.E.O.Diabo.Na.Terra.Do.Sol.CD1.DVDXviD-ARKHE.avi\n",
        "http://www.imdb.com/title/tt0058006\n",
        "F:/Backup/Bibliotecas/Filmes/N\u00e3o Vistos\\Gran.Torino.2009.DvDRip.GELEIA_XXX_UV\\Gran.Torino.2009.DvDRip.GELEIA_XXX_UV.avi\n",
        "http://www.imdb.com/title/tt0309614\n",
        "F:/Backup/Bibliotecas/Filmes/N\u00e3o Vistos\\Gran.Torino.2009.DvDRip.GELEIA_XXX_UV\\Gran.Torino.avi\n",
        "http://www.imdb.com/title/tt1205489\n",
        "F:/Backup/Bibliotecas/Filmes/Vistos\\La Grande Vadrouille 720p x264 FRENCH\\La Grande Vadrouille 720p x264 FRENCH.mp4\n",
        "http://www.imdb.com/title/tt0060474\n",
        "F:/Backup/Bibliotecas/Filmes/N\u00e3o Vistos\\FREEDOM_DOWNTIME\\Kevin Mitnick Interview.avi\n",
        "http://www.imdb.com/title/tt0309614\n",
        "F:/Backup/Bibliotecas/Filmes/Vistos\\Casablanca\\yve-casablanca.1942.720p.x264.mkv\n",
        "http://www.imdb.com/title/tt0034583\n",
        "F:/Backup/Bibliotecas/Filmes/Vistos\\Pan's.Labyrinth.2006.720p.BluRay.DTS.x264-FiNE\\Pan's.Labyrinth.2006.720p.BluRay.DTS.x264-FiNE.mkv\n",
        "http://www.imdb.com/title/tt0457430\n",
        "F:/Backup/Bibliotecas/Filmes/N\u00e3o Vistos\\muito_alem_do_cidadao_kane\\muito_alem_do_cidadao_kane.avi\n",
        "http://www.imdb.com/title/tt1356393\n",
        "F:/Backup/Bibliotecas/Filmes/Vistos\\O.Som.ao.Redor.2012.720p.WEB-DL.x264-BiG\\O.Som.ao.Redor.2012.720p.WEB-DL.x264-BiG.mkv\n",
        "http://www.imdb.com/title/tt2190367\n",
        "F:/Backup/Bibliotecas/Filmes/Vistos\\Control.2007.LiMiTED.720p.BluRay.x264-HANGOVER\\Control.2007.LiMiTED.720p.BluRay.x264-HANGOVER.mkv\n",
        "http://www.imdb.com/title/tt0421082\n",
        "F:/Backup/Bibliotecas/Filmes/Vistos\\Moon[2009]DvDrip[Eng]-FXG\\Moon[2009]DvDrip[Eng]-FXG.avi\n",
        "http://www.imdb.com/title/tt1182345\n",
        "F:/Backup/Bibliotecas/Filmes/Vistos\\The Corporation Filmmakers Official Download Edition - DIVX\\TheCorporation-Movie-Part1.avi\n",
        "http://www.imdb.com/title/tt0379225\n",
        "F:/Backup/Bibliotecas/Filmes/Vistos\\Source Code 2011 BRRip 720p H264-3Li\\Source Code.mp4\n",
        "http://www.imdb.com/title/tt0945513\n",
        "F:/Backup/Bibliotecas/Filmes/Vistos\\F4rg0 (BDrip 1080p ENG-ITA-FRA-JPN-SPA) Multisub x264 bluray (1996)\\F4rg0 (BDrip 1080p ENG-ITA-FRA-JPN-SPA) Multisub x264 bluray (1996).mkv\n",
        "http://www.imdb.com/title/tt0116282\n",
        "F:/Backup/Bibliotecas/Filmes/Vistos\\Black.Swan.2010.DVDSCR.XviD-TiMKY [NO-RAR] - [ www.torrentday.com ]\\timky-blackswan-dvdscr.avi\n",
        "http://www.imdb.com/title/tt0947798\n",
        "F:/Backup/Bibliotecas/Filmes/Vistos\\L.Auberge.Espagnole.2002.FRENCH.720p.BluRay.x264-FHD\\fhd-auberge720p.mkv\n",
        "http://www.imdb.com/title/tt0283900\n",
        "F:/Backup/Bibliotecas/Filmes/Vistos\\Withnail And I (1986)\\Withnail And I (1986).avi\n",
        "http://www.imdb.com/title/tt0094336\n",
        "F:/Backup/Bibliotecas/Filmes/Vistos\\PBS.POV.The City Dark.480p.HDTV.x264-KarMa\\PBS.POV.The City Dark.480p.HDTV.x264-KarMa.mp4\n",
        "http://www.imdb.com/title/tt1863406\n",
        "F:/Backup/Bibliotecas/Filmes/Vistos\\Coracoes Sujos\\Coracoes.Sujos.2013.720p.bluray.ac3.x264-lozano.mkv\n",
        "http://www.imdb.com/title/tt1653653\n",
        "F:/Backup/Bibliotecas/Filmes/Vistos\\Donnie Darko Dir Cut (2001)\\Donnie Darko Dir Cut (2001) m720p.mkv\n",
        "http://www.imdb.com/title/tt0246578\n",
        "F:/Backup/Bibliotecas/Filmes/Vistos\\The Black Swan [2010]\\Black.Swan[2010]DvDRip[Eng]-PiRaTeS.avi\n",
        "http://www.imdb.com/title/tt0947798\n",
        "F:/Backup/Bibliotecas/Filmes/Vistos\\Creation\\[www.telona.org-by-B4rm4n]Creation.DVDRip.Leg.avi\n",
        "http://www.imdb.com/title/tt0974014\n",
        "F:/Backup/Bibliotecas/Filmes/Vistos\\Perfect Blue (1997) 1080p [Jpn 5.1 & Eng 5.1] Blu-ray\\Perfect Blue (1997) 1080p [Jpn 5.1 & Eng 5.1] Blu-ray.mp4\n",
        "http://www.imdb.com/title/tt0156887\n"
       ]
      }
     ],
     "prompt_number": 136
    },
    {
     "cell_type": "code",
     "collapsed": false,
     "input": [
      "manual_id[\"F:/Backup/Bibliotecas/Filmes/N\u00e3o Vistos\\Gran.Torino.2009.DvDRip.GELEIA_XXX_UV\\Gran.Torino.2009.DvDRip.GELEIA_XXX_UV.avi\"] = \"1205489\""
     ],
     "language": "python",
     "metadata": {},
     "outputs": [],
     "prompt_number": 137
    },
    {
     "cell_type": "code",
     "collapsed": false,
     "input": [
      " item = ia.get_movie(\"0156887\")"
     ],
     "language": "python",
     "metadata": {},
     "outputs": [],
     "prompt_number": 148
    },
    {
     "cell_type": "code",
     "collapsed": false,
     "input": [
      "print item[\"rating\"]"
     ],
     "language": "python",
     "metadata": {},
     "outputs": [
      {
       "output_type": "stream",
       "stream": "stdout",
       "text": [
        "7.8\n"
       ]
      }
     ],
     "prompt_number": 152
    },
    {
     "cell_type": "code",
     "collapsed": false,
     "input": [],
     "language": "python",
     "metadata": {},
     "outputs": []
    }
   ],
   "metadata": {}
  }
 ]
}