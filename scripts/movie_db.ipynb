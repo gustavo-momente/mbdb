{
 "cells": [
  {
   "cell_type": "code",
   "execution_count": 1,
   "metadata": {
    "collapsed": false
   },
   "outputs": [],
   "source": [
    "#! python\n",
    "# -*- coding: latin-1 -*-\n",
    "import os\n",
    "from guessit import guess_file_info\n",
    "import codecs\n",
    "from datetime import datetime\n",
    "import enzyme\n",
    "import json\n",
    "import re\n",
    "import math\n",
    "from ffprobe import FFProbe\n",
    "from avMetadataInfo import mediaObject\n",
    "import time\n",
    "import locale, unicodedata\n",
    "import imdb\n",
    "import pickle"
   ]
  },
  {
   "cell_type": "code",
   "execution_count": 2,
   "metadata": {
    "collapsed": false
   },
   "outputs": [],
   "source": [
    "def userAgrees(p1, p2):\n",
    "    while True:\n",
    "        in_ = raw_input(u\"{}  is {} ? \".format(p1, p2))\n",
    "        if  in_ == \"\" or in_ == \"True\" or in_ == \"true\" or in_ == \"yes\" or in_ == \"y\" or in_ == \"Y\" or in_ == \"Yes\":\n",
    "            return True\n",
    "        elif in_ == \"False\" or in_ == \"false\" or in_ == \"no\" or in_ == \"n\" or in_ == \"N\" or in_ == \"No\":\n",
    "            return False"
   ]
  },
  {
   "cell_type": "code",
   "execution_count": 3,
   "metadata": {
    "collapsed": false
   },
   "outputs": [],
   "source": [
    "def convertSize(size):\n",
    "    s = round(float(size)/long(1073741824), 2)\n",
    "    return '%s %s' % (s,\"GB\")\n",
    "#    size_name = (\"B\", \"KB\", \"MB\", \"GB\", \"TB\", \"PB\", \"EB\", \"ZB\", \"YB\")\n",
    "#    i = int(math.floor(math.log(size,1024)))\n",
    "#    p = math.pow(1024,i)\n",
    "#    s = round(size/p,2)\n",
    "#    if (s > 0):\n",
    "#        return '%s %s' % (s,size_name[i])\n",
    "#    else:\n",
    "#        return '0B'"
   ]
  },
  {
   "cell_type": "code",
   "execution_count": 4,
   "metadata": {
    "collapsed": false
   },
   "outputs": [],
   "source": [
    "def getUser(path):\n",
    "    with open(path, 'r') as f:\n",
    "        a = f.read().strip()\n",
    "    data = a.split(';')\n",
    "    return (data[0], data[1])"
   ]
  },
  {
   "cell_type": "code",
   "execution_count": 5,
   "metadata": {
    "collapsed": false
   },
   "outputs": [],
   "source": [
    "def sec2hours(seconds):\n",
    "    m, s = divmod(seconds, 60)\n",
    "    h, m = divmod(m, 60)\n",
    "    return \"%02d:%02d:%02d\" % (h, m, s)"
   ]
  },
  {
   "cell_type": "code",
   "execution_count": 6,
   "metadata": {
    "collapsed": false
   },
   "outputs": [],
   "source": [
    "def get_files(folder, checked_files=[], file_types=[\".mp4\", \".mkv\", \".avi\"], min_size=long(100000000)):\n",
    "    files = []\n",
    "    for root, dirs, _files in os.walk(folder):\n",
    "        for name in _files:\n",
    "            if os.path.join(root, name) not in checked_files and name not in checked_files:\n",
    "                for ftype in file_types:\n",
    "                    if name.endswith(ftype):\n",
    "                        fsize = os.path.getsize(os.path.join(root, name))\n",
    "                        if fsize > min_size:\n",
    "                            files.append((os.path.join(root, name), convertSize(fsize), name))\n",
    "                            checked_files.append(name)\n",
    "                        break\n",
    "    \n",
    "    return files"
   ]
  },
  {
   "cell_type": "code",
   "execution_count": 7,
   "metadata": {
    "collapsed": false
   },
   "outputs": [],
   "source": [
    "def get_data(files, min_runtime=5):\n",
    "    prog = re.compile('sample', flags=re.IGNORECASE)\n",
    "    notwatched = re.compile(u'não visto', flags=re.IGNORECASE)\n",
    "    jdata = []\n",
    "    data_keys = ['container', 'screenSize', 'format', 'releaseGroup', 'year']\n",
    "    json_keys = {'container' : \"fileType\", 'screenSize' : \"resolution\", 'format' : \"format\", 'releaseGroup' : \"releaseGroup\", 'year' : 'year'}\n",
    "    swipe = []\n",
    "    for count in xrange(len(files)):\n",
    "        pair = files[count]\n",
    "        x = pair[0]\n",
    "        try:\n",
    "            tmp = guess_file_info(x, type='movie')\n",
    "        except UnicodeDecodeError as e:\n",
    "            normalized_x = unicodedata.normalize('NFKD', x).encode(locale.getpreferredencoding(),'ignore')\n",
    "            tmp = guess_file_info(normalized_x, type='movie')\n",
    "        tdic = {}\n",
    "        try:\n",
    "            title = tmp['title']\n",
    "        except KeyError as e:\n",
    "            print x\n",
    "            print tmp.nice_string()\n",
    "        try:\n",
    "            rg = tmp['releaseGroup']\n",
    "            aws = prog.search(rg)\n",
    "            if aws:\n",
    "                swipe.append(count)\n",
    "                continue\n",
    "        except KeyError:\n",
    "            pass\n",
    "\n",
    "        tdic['movie'] = title\n",
    "        tdic['fileName'] = pair[2]\n",
    "        tdic['fileSize'] = pair[1]\n",
    "        for key in data_keys:\n",
    "            try:\n",
    "                tdic[json_keys[key]] = tmp[key]\n",
    "            except KeyError:\n",
    "                tdic[json_keys[key]] = \"\"\n",
    "        \n",
    "\n",
    "        metadata = mediaObject(pair[0].encode(locale.getpreferredencoding()))\n",
    "        if metadata.getVideoCodec() is None:\n",
    "            swipe.append(count)\n",
    "            continue\n",
    "            \n",
    "        tlenght = time.strptime(metadata.getTotalRunningTimeRaw()[:-3], \"%H:%M:%S\")\n",
    "        \n",
    "        try:\n",
    "            tdic['bitrateKbps'] = metadata.getVideoBitRate()/1000\n",
    "        except ValueError:\n",
    "            tdic['bitrateKbps'] = 8*metadata.getFileSize()/(1000 * (tlenght.tm_hour * 3600 + tlenght.tm_min *60 + tlenght.tm_sec))\n",
    "        \n",
    "        tdic['height'] = metadata.getVideoResolutionHeight()\n",
    "        tdic['width'] = metadata.getVideoResolutionWidth()\n",
    "        tdic['runtime'] = tlenght.tm_hour * 60 + tlenght.tm_min + math.trunc(float(tlenght.tm_sec)/60)       \n",
    "        if tdic['runtime'] < min_runtime:\n",
    "            swipe.append(count)\n",
    "            continue\n",
    "        wreg = notwatched.search(x)\n",
    "        if wreg:\n",
    "            tdic['watched'] = False\n",
    "        else:\n",
    "            tdic['watched'] = True\n",
    "        \n",
    "        jdata.append(tdic)\n",
    "    print swipe\n",
    "    return jdata, swipe"
   ]
  },
  {
   "cell_type": "code",
   "execution_count": 8,
   "metadata": {
    "collapsed": false
   },
   "outputs": [
    {
     "name": "stdout",
     "output_type": "stream",
     "text": [
      "11\n",
      "177\n",
      "205\n",
      "246\n",
      "[]\n",
      "246\n"
     ]
    }
   ],
   "source": [
    "folder = u\"C:/Users/Usuario/Downloads/Filmes\"\n",
    "files = get_files(folder)\n",
    "print len(files)\n",
    "files += get_files(u\"F:/Backup/Bibliotecas/Filmes/Vistos\") \n",
    "print len(files)\n",
    "files += get_files(u\"F:/Backup/Bibliotecas/Filmes/Não Vistos\") \n",
    "print len(files)\n",
    "files += get_files(u\"F:/Backup/Bibliotecas/Filmes/wa\")\n",
    "print len(files)\n",
    "(jdata, swipe) = get_data(files)\n",
    "\n",
    "c = 0\n",
    "for pos in swipe:\n",
    "    del files[pos+c]\n",
    "    c -= 1\n",
    "print len(files)"
   ]
  },
  {
   "cell_type": "code",
   "execution_count": 9,
   "metadata": {
    "collapsed": false
   },
   "outputs": [],
   "source": [
    "used = []\n",
    "manual_id = {}\n",
    "u_agree_db = {}\n",
    "ia = imdb.IMDb() # by default access the web."
   ]
  },
  {
   "cell_type": "code",
   "execution_count": 25,
   "metadata": {
    "collapsed": false
   },
   "outputs": [
    {
     "name": "stdout",
     "output_type": "stream",
     "text": [
      "Amour \tAmour (2012)\n",
      "Argo \tArgo (2012)\n",
      "Beginners \tBeginners (2010)\n",
      "Beirut \tCheap Magic Inside (2011)\n",
      "Birdman (2014) [1080p, 1916x1032, AVC, WEB-DL, RARBG].mkv  is Birdman: Or (The Unexpected Virtue of Ignorance) (2014) ? \n",
      "Black Swan \tBlack Swan (2010)\n",
      "Black Swan \tBlack Swan (2010)\n",
      "I couldn't find the data for F:/Backup/Bibliotecas/Filmes/Vistos\\Cashback [2006, 720p]\\Cashback (2006) by Sean Ellis [720p, 1280x544, x264, RELEASE].mp4, please manually enter imdbID\n",
      "IMDB id: tt0460740\n",
      "Cashback \tCashback (2006)\n",
      "Cidade de Deus (2002) by Fernando Meirelles [720p, 1280x692, x264, BluRay, CtrlHD].mkv  is City of God (2002) ? \n",
      "Control \tControl (2007)\n",
      "Creation \tCreation (I) (2009)\n",
      "Ex Machina (2015) [1080p, 1920x808, x264, BRRip, JYK].mkv  is Ex Machina (2015) ? \n",
      "Gravity \tGravity (2013)\n",
      "Interstellar (2014) [1080p, 1920x1080, x264, BluRay, YIFY].mp4  is Interstellar (2014) ? \n",
      "Jeux d'enfants \tJeux d'enfants (2003)\n",
      "Kingsman.The.Secret.Service.2014.1080p.BluRay.x264.YIFY.mp4  is Kingsman: The Secret Service (2014) ? \n",
      "La \tLa vie d'Adèle (2013)\n",
      "La vita è bella \tLa vita è bella (1997)\n",
      "Moon \tMoon (2009)\n",
      "Nightcrawler (2014) by Dan Gilroy [1080p, 1916x796, AVC, WEB-DL, RARBG].mkv  is Nightcrawler (2014) ? \n",
      "O \tO Som ao Redor (2012)\n",
      "Smultronstället \tSmultronstället (1957)\n",
      "Source Code \tSource Code (2011)\n",
      "Tenten \tTenten (2007)\n",
      "The City Dark \tThe City Dark (2011)\n",
      "The Imitation Game (2014) [1080p, 1920x800, x264, BRRip, JYK].mkv  is The Imitation Game (2014) ? \n",
      "The Royal Tenenbaums (2001) [1080p, 1920x800, x264, BluRay, YIFY].mp4  is The Royal Tenenbaums (2001) ? \n",
      "Zeitgeist The Movie \tZeitgeist (2007) (V)\n",
      "À bout de souffle \tÀ bout de souffle (1960)\n",
      "Fanny och Alexander \tFanny och Alexander (1982)\n",
      "Muito Além do Cidadão Kane \tBeyond Citizen Kane (1993) (TV)\n",
      "Vozvrashchenie \tVozvrashchenie (2003)\n",
      "Anything Else (2003) by Woody Allen [240p, 528x224, XviD].avi  is Anything Else (2003) ? \n",
      "Broadway Danny Rose (1984) by Woody Allen [360p, 592x320, DivX].avi  is Broadway Danny Rose (1984) ? \n",
      "Cassandra's Dream (2007) by Woody Allen [360p, 616x336, XviD, DVDRip, aXXo].avi  is Cassandra's Dream (2007) ? \n",
      "Hollywood Ending (2002) by Woody Allen [360p, 640x352, XviD, DVDRip, WooDY].avi  is Hollywood Ending (2002) ? \n",
      "Husbands and Wives (1992) by Woody Allen [480p, 720x400, XviD, DVDRip, WooDY].avi  is Husbands and Wives (1992) ? \n",
      "Match Point (2005) by Woody Allen [240p, 484x256, XviD, DVDRip, aXXo].avi  is Match Point (2005) ? \n",
      "Melinda and Melinda (2004) by Woody Allen [360p, 608x320, XviD, WooDY].avi  is Melinda and Melinda (2004) ? \n",
      "New York Stories (1989) by Woody Allen [360p, 576x432, DivX].avi  is New York Stories (1989) ? \n",
      "Scoop (2006) by Woody Allen [360p, 584x308, XviD, DVDRip, aXXo].avi  is Scoop (2006) ? \n",
      "Sweet and Lowdown (1999) by Woody Allen [360p, 640x352, XviD, DVDRip, WooDY].avi  is Sweet and Lowdown (1999) ? \n",
      "The Curse of the Jade Scorpion (2001) by Woody Allen [360p, 640x352, DivX, DVDRip, WooDY].avi  is The Curse of the Jade Scorpion (2001) ? \n",
      "What's New Pussycat (1965) by Clive Donner [480p, 720x448, XviD].avi  is What's New Pussycat (1965) ? \n",
      "What's Up, Tiger Lily (1966) by Woody Allen [360p, 640x288, DivX, DVDRip, WooDY].avi  is What's Up, Tiger Lily? (1966) ? \n",
      "A Midsummer Night's Sex Comedy (1982) by Woody Allen [360p, 640x336, DivX, DVDRip, WooDY].avi  is A Midsummer Night's Sex Comedy (1982) ? \n",
      "Another Woman (1988) by Woody Allen [480p, 720x400, XviD, DVDRip, WooDY].avi  is Another Woman (1988) ? \n",
      "Bananas (1971) by Woody Allen [360p, 576x288, DivX, DVDRip, WooDY].avi  is Bananas (1971) ? \n",
      "Bullets Over Broadway (1994) by Woody Allen [360p, 608x320, DivX, DVDRip, WooDY].avi  is Bullets Over Broadway (1994) ? \n",
      "Crimes and Misdemeanors (1989) by Woody Allen [480p, 720x400, XviD, DVDRip, WooDY].avi  is Crimes and Misdemeanors (1989) ? \n",
      "Deconstructing Harry (1997) by Woody Allen [360p, 576x320, DivX, DVDRip, WooDY].avi  is Deconstructing Harry (1997) ? \n",
      "Don't Drink the Water (1994) by Woody Allen [360p, 512x384, XviD].avi  is Don't Drink the Water (1969) ? \n",
      "Everything You Always Wanted to Know About Sex (But Were Afraid to Ask) (1972) by Woody Allen [480p, 720x384, XviD, DVDRip, WooDY].avi  is Everything You Always Wanted to Know About Sex * But Were Afraid to Ask (1972) ? \n",
      "Hannah and Her Sisters (1986) by Woody Allen [360p, 640x368, XviD, DVDRip, WooDY].avi  is Hannah and Her Sisters (1986) ? \n",
      "Interiors (1978) by Woody Allen [360p, 640x336, DivX, DVDRip, WooDY].avi  is Interiors (1978) ? \n",
      "Love and Death (1975) by Woody Allen [240p, 512x272, DivX, DVDRip, WooDY].avi  is Love and Death (1975) ? \n",
      "Manhattan Murder Mystery (1993) by Woody Allen [360p, 576x304, XviD, DVDRip, WooDY].avi  is Manhattan Murder Mystery (1993) ? \n",
      "Manhattan (1979) [720p, 1280x544, x264, BluRay, AMIABLE].mkv  is Manhattan (1979) ? \n",
      "Midnight in Paris (2011) by Woody Allen [720p, 1280x688, x264, BluRay].mkv  is Midnight in Paris (2011) ? \n",
      "Mighty Aphrodite (1995) by Woody Allen [360p, 560x304, XviD, DVDRip, WooDY].avi  is Mighty Aphrodite (1995) ? \n",
      "Play It Again, Sam (1972) by Herbert Ross [360p, 608x336, DivX, DVDRip, WooDY].avi  is Play It Again, Sam (1972) ? \n",
      "Radio Days (1987) by Woody Allen [360p, 592x320, DivX, WooDY].avi  is Radio Days (1987) ? \n",
      "September (1987) by Woody Allen [360p, 640x352, DivX, WooDY].avi  is September 11 (2002) ? n\n",
      "I couldn't find the data for F:/Backup/Bibliotecas/Filmes/wa\\Vistos\\September [1987, 360p]\\September (1987) by Woody Allen [360p, 640x352, DivX, WooDY].avi, please manually enter imdbID\n",
      "IMDB id: tt0093940\n",
      "September \tSeptember (1987)\n",
      "Shadows and Fog (1991) by Woody Allen [480p, 720x400, XviD, DVDRip].avi  is Shadows and Fog (1991) ? \n",
      "Sleeper (1973) by Woody Allen [360p, 608x352, XviD, DVDRip].avi  is Sleeper (1973) ? \n",
      "Small Time Crooks (2000) by Woody Allen [360p, 576x320, DivX, DVDRip, WooDY].avi  is Small Time Crooks (2000) ? \n",
      "Stardust Memories (1980) by Woody Allen [360p, 608x336, XviD].avi  is Stardust Memories (1980) ? \n",
      "Take the Money and Run (1969) by Woody Allen [360p, 640x384, DivX, DVDRip, WooDY].avi  is Take the Money and Run (1969) ? \n",
      "The Purple Rose of Cairo (1985) by Woody Allen [240p, 480x272, DivX, DVDRip, WooDY].avi  is The Purple Rose of Cairo (1985) ? \n",
      "Vicky Cristina Barcelona (2008) by Woody Allen [720p, 1280x688, XviD, BRRip, NPW].avi  is Vicky Cristina Barcelona (2008) ? \n",
      "Whatever Works (2009) by Woody Allen [720p, 1280x720, x264, BluRay].mkv  is Whatever Works (2009) ? \n",
      "Zelig (1983) by Woody Allen [360p, 608x336, XviD, DVDRip, WooDY].avi  is Zelig (1983) ? \n"
     ]
    }
   ],
   "source": [
    "for i in xrange(len(jdata)):\n",
    "    if i in used:\n",
    "        continue\n",
    "    movie = jdata[i]\n",
    "    mtitle = movie['movie']\n",
    "    year = movie['year']\n",
    "    item = None\n",
    "    try:\n",
    "        items = ia.search_movie(u\"{} {}\".format(mtitle, year), 6)\n",
    "        for sitem in items:\n",
    "            if sitem['kind'] == 'movie':\n",
    "                item = sitem\n",
    "                break\n",
    "        if item is None:\n",
    "            raise IndexError\n",
    "        try:\n",
    "            flag = u_agree_db[files[i][2]]\n",
    "        except KeyError:\n",
    "            flag = userAgrees(files[i][2], item['long imdb title'])\n",
    "            u_agree_db[files[i][2]] = flag\n",
    "        if not flag:\n",
    "            raise IndexError\n",
    "    except IndexError:\n",
    "        if files[i][2] in manual_id:\n",
    "            item = ia.get_movie(manual_id[files[i][2]])\n",
    "        else:\n",
    "            print u\"I couldn't find the data for {}, please manually enter imdbID\".format(files[i][0])\n",
    "            in_ = raw_input(\"IMDB id: \").lstrip(\"tt\")\n",
    "            manual_id[files[i][2]] = in_\n",
    "            item = ia.get_movie(in_)\n",
    "        print mtitle, \"\\t\", item['long imdb title']\n",
    "    ia.update(item)\n",
    "    jdata[i]['movieImdb'] = item['long imdb title']\n",
    "    jdata[i]['movieLink'] = u'<a title=\"{}\" href=\"{}\" target=\"_blank\">{}</a>'.format(jdata[i]['movieImdb'], ia.get_imdbURL(item), jdata[i]['movieImdb'])\n",
    "    jdata[i]['id'] = item.movieID\n",
    "    jdata[i]['year'] = int(item['year'])\n",
    "    try:\n",
    "        jdata[i]['rating'] = item['rating']\n",
    "    except KeyError:\n",
    "        jdata[i]['rating'] = 0\n",
    "    used.append(i)"
   ]
  },
  {
   "cell_type": "code",
   "execution_count": 88,
   "metadata": {
    "collapsed": false
   },
   "outputs": [],
   "source": [
    "jdata_sorted = sorted(jdata, key= lambda x:x['movieImdb'])\n",
    "aa = json.dumps(jdata_sorted, sort_keys = True, indent = 4, ensure_ascii=False)\n",
    "json.dump(jdata_sorted, codecs.open('json_data/mvdata.json', 'w', 'utf-8'), sort_keys = True, indent = 4, ensure_ascii=False)\n",
    "json.dump(jdata_sorted, codecs.open('../../movie_html/json_data/mvdata.json', 'w', 'utf-8'), sort_keys = True, indent = 4, ensure_ascii=False)"
   ]
  },
  {
   "cell_type": "code",
   "execution_count": 89,
   "metadata": {
    "collapsed": false
   },
   "outputs": [],
   "source": [
    "pickle.dump(manual_id, open(\"manual_id.bak\", \"wb\"))\n",
    "pickle.dump(u_agree_db, open(\"u_agree_db.bak\", \"wb\"))\n",
    "pickle.dump(jdata, open(\"jdata.bak\", \"wb\"))"
   ]
  },
  {
   "cell_type": "code",
   "execution_count": 10,
   "metadata": {
    "collapsed": false
   },
   "outputs": [],
   "source": [
    "manual_id = pickle.load(open(\"manual_id.bak\", \"rb\"))\n",
    "u_agree_db= pickle.load(open(\"u_agree_db.bak\", \"rb\"))"
   ]
  },
  {
   "cell_type": "code",
   "execution_count": 14,
   "metadata": {
    "collapsed": false
   },
   "outputs": [
    {
     "data": {
      "text/plain": [
       "24"
      ]
     },
     "execution_count": 14,
     "metadata": {},
     "output_type": "execute_result"
    }
   ],
   "source": [
    "i"
   ]
  },
  {
   "cell_type": "code",
   "execution_count": 21,
   "metadata": {
    "collapsed": false
   },
   "outputs": [
    {
     "data": {
      "text/plain": [
       "(u'F:/Backup/Bibliotecas/Filmes/Vistos\\\\Amour [2012, 360p]\\\\Amour (2012) by Michael Haneke [360p, 688x368, XviD, BRRip, HORiZON].avi',\n",
       " '1.78 GB',\n",
       " u'Amour (2012) by Michael Haneke [360p, 688x368, XviD, BRRip, HORiZON].avi')"
      ]
     },
     "execution_count": 21,
     "metadata": {},
     "output_type": "execute_result"
    }
   ],
   "source": [
    "files[i]"
   ]
  },
  {
   "cell_type": "code",
   "execution_count": 24,
   "metadata": {
    "collapsed": false
   },
   "outputs": [
    {
     "data": {
      "text/plain": [
       "'1602620'"
      ]
     },
     "execution_count": 24,
     "metadata": {},
     "output_type": "execute_result"
    }
   ],
   "source": [
    "manual_id[files[i][2]]"
   ]
  },
  {
   "cell_type": "code",
   "execution_count": 23,
   "metadata": {
    "collapsed": false
   },
   "outputs": [
    {
     "data": {
      "text/plain": [
       "{u'Amour (2012) by Michael Haneke [360p, 688x368, XviD, BRRip, HORiZON].avi': '1602620',\n",
       " u'Argo (2012) by Ben Affleck [720p, 1280x528, x264, BluRay, YIFY].mp4': '1024648',\n",
       " u'Beginners (2010) by Mike Mills [720p, 1280x688, x264, BRRip, YIFY].mp4': '1532503',\n",
       " u'Beirut - Cheap Magic Inside (2010) by Vincent Moon [480p, 720x400, XviD, ].avi': '4272988',\n",
       " u'Black Swan (2010) by Darren Aronofsky [360p, 640x272, XviD, DVDRip, ] CD1.avi': '0947798',\n",
       " u'Black Swan (2010) by Darren Aronofsky [360p, 640x272, XviD, DVDSCR, ] CD2.avi': '0947798',\n",
       " u'Control (2007) by Anton Corbijn [720p, 1280x544, x264, BluRay, HANGOVER].mkv': '0421082',\n",
       " u'Creation (2009) by Jon Amiel [360p, 624x256, XviD, DVDRip, ].avi': '0974014',\n",
       " u'Fanny och Alexander (1982) by Ingmar Bergman [720p, 1280x720, DivX, ].avi': '0083922',\n",
       " u'Gravity (2013) by Alfonso Cuar\\xf3n [1080p, 1918x798, AVC, WEB-DL, PublicHD].mkv': '1454468',\n",
       " u\"Jeux d'enfants (2003) by Yann Samuell [360p, 576x304, XviD, DVDRip, ].avi\": '0364517',\n",
       " u'Kid-Thing (2011) [720p, 1280x720, x264, WEB-DL, PublicHD].mkv': '2137818',\n",
       " u'Kid-Thing (2011) by David Zellner [720p, 1280x720, x264, WEB-DL, PublicHD].mkv': '2137818',\n",
       " u\"La vie d'Ad\\xe8le - Chapitres 1 et 2 (2013) by Abdellatif Kechiche [1080p, 1920x804, x264, BluRay, LTT].mkv\": '2278871',\n",
       " u'La vita \\xe8 bella (1997) by Roberto Benigni [720p, 1280x720, x264, ].mkv': '0118799',\n",
       " u'Moon (2009) by Duncan Jones [360p, 680x272, XviD, DVDRip, FXG].avi': '1182345',\n",
       " u'Muito Al\\xe9m do Cidad\\xe3o Kane (1993) by [360p, 600x460, DivX, ].avi': '1356393',\n",
       " u'O Som ao Redor (2012) by Kleber Mendon\\xe7a Filho [720p, 1280x544, x264, WEB-DL, ].mkv': '2190367',\n",
       " u'Smultronst\\xe4llet (1957) by Ingmar Bergman [360p, 576x432, XviD, AKA].avi': '0050986',\n",
       " u'Source Code (2011) by Duncan Jones [720p, 1280x720, x264, BRRip, 3Li].mp4': '0945513',\n",
       " u'Tenten  (2007) by Satoshi Miki [360p, 592x304, XviD, DVDRip, WiRA].avi': '1098226',\n",
       " u'The City Dark (2012) by Ian Cheney [480p, 848x480, x264, HDTV, ].mp4': '1863406',\n",
       " u'Vozvrashchenie (2003) by Andrey Zvyagintsev [480p, 720x392, XviD, DVDRip, ].avi': '0376968',\n",
       " u'Zeitgeist The Movie (2007) by Peter Joseph [480p, 640x480, XviD, DVDRip, ].avi': '1166827',\n",
       " u'\\xc0 bout de souffle (1960) by Jean-Luc Godard [720p, 1280x960, x264, BDRip, Gopo].mp4': '0053472'}"
      ]
     },
     "execution_count": 23,
     "metadata": {},
     "output_type": "execute_result"
    }
   ],
   "source": [
    "manual_id"
   ]
  },
  {
   "cell_type": "code",
   "execution_count": null,
   "metadata": {
    "collapsed": true
   },
   "outputs": [],
   "source": []
  }
 ],
 "metadata": {
  "kernelspec": {
   "display_name": "Python 2",
   "language": "python",
   "name": "python2"
  },
  "language_info": {
   "codemirror_mode": {
    "name": "ipython",
    "version": 2
   },
   "file_extension": ".py",
   "mimetype": "text/x-python",
   "name": "python",
   "nbconvert_exporter": "python",
   "pygments_lexer": "ipython2",
   "version": "2.7.8"
  }
 },
 "nbformat": 4,
 "nbformat_minor": 0
}
