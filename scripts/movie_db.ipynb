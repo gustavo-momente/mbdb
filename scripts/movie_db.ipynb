{
 "metadata": {
  "name": "",
  "signature": "sha256:f31f4b1e2f3ae187d1d0fc3535c10c9592fbae77b7d0867e05073ed2324b2825"
 },
 "nbformat": 3,
 "nbformat_minor": 0,
 "worksheets": [
  {
   "cells": [
    {
     "cell_type": "code",
     "collapsed": false,
     "input": [
      "#! python\n",
      "# -*- coding: latin-1 -*-\n",
      "import os\n",
      "from guessit import guess_file_info\n",
      "import codecs\n",
      "from datetime import datetime\n",
      "import enzyme\n",
      "import json\n",
      "import re\n",
      "import math\n",
      "from ffprobe import FFProbe\n",
      "from avMetadataInfo import mediaObject\n",
      "import time\n",
      "import locale, unicodedata\n",
      "import imdb\n",
      "import pickle"
     ],
     "language": "python",
     "metadata": {},
     "outputs": [],
     "prompt_number": 24
    },
    {
     "cell_type": "code",
     "collapsed": false,
     "input": [
      "def userAgrees(p1, p2):\n",
      "    while True:\n",
      "        in_ = raw_input(u\"{}  is {} ? \".format(p1, p2))\n",
      "        if  in_ == \"\" or in_ == \"True\" or in_ == \"true\" or in_ == \"yes\" or in_ == \"y\" or in_ == \"Y\" or in_ == \"Yes\":\n",
      "            return True\n",
      "        elif in_ == \"False\" or in_ == \"false\" or in_ == \"no\" or in_ == \"n\" or in_ == \"N\" or in_ == \"No\":\n",
      "            return False"
     ],
     "language": "python",
     "metadata": {},
     "outputs": [],
     "prompt_number": 25
    },
    {
     "cell_type": "code",
     "collapsed": false,
     "input": [
      "def convertSize(size):\n",
      "    s = round(float(size)/long(1073741824), 2)\n",
      "    return '%s %s' % (s,\"GB\")\n",
      "#    size_name = (\"B\", \"KB\", \"MB\", \"GB\", \"TB\", \"PB\", \"EB\", \"ZB\", \"YB\")\n",
      "#    i = int(math.floor(math.log(size,1024)))\n",
      "#    p = math.pow(1024,i)\n",
      "#    s = round(size/p,2)\n",
      "#    if (s > 0):\n",
      "#        return '%s %s' % (s,size_name[i])\n",
      "#    else:\n",
      "#        return '0B'"
     ],
     "language": "python",
     "metadata": {},
     "outputs": [],
     "prompt_number": 26
    },
    {
     "cell_type": "code",
     "collapsed": false,
     "input": [
      "def getUser(path):\n",
      "    with open(path, 'r') as f:\n",
      "        a = f.read().strip()\n",
      "    data = a.split(';')\n",
      "    return (data[0], data[1])"
     ],
     "language": "python",
     "metadata": {},
     "outputs": [],
     "prompt_number": 27
    },
    {
     "cell_type": "code",
     "collapsed": false,
     "input": [
      "def sec2hours(seconds):\n",
      "    m, s = divmod(seconds, 60)\n",
      "    h, m = divmod(m, 60)\n",
      "    return \"%02d:%02d:%02d\" % (h, m, s)"
     ],
     "language": "python",
     "metadata": {},
     "outputs": [],
     "prompt_number": 28
    },
    {
     "cell_type": "code",
     "collapsed": false,
     "input": [
      "def get_files(folder, checked_files=[], file_types=[\".mp4\", \".mkv\", \".avi\"], min_size=long(100000000)):\n",
      "    files = []\n",
      "    for root, dirs, _files in os.walk(folder):\n",
      "        for name in _files:\n",
      "            if os.path.join(root, name) not in checked_files and name not in checked_files:\n",
      "                for ftype in file_types:\n",
      "                    if name.endswith(ftype):\n",
      "                        fsize = os.path.getsize(os.path.join(root, name))\n",
      "                        if fsize > min_size:\n",
      "                            files.append((os.path.join(root, name), convertSize(fsize), name))\n",
      "                            checked_files.append(name)\n",
      "                        break\n",
      "    \n",
      "    return files"
     ],
     "language": "python",
     "metadata": {},
     "outputs": [],
     "prompt_number": 29
    },
    {
     "cell_type": "code",
     "collapsed": false,
     "input": [
      "def get_data(files, min_runtime=5):\n",
      "    prog = re.compile('sample', flags=re.IGNORECASE)\n",
      "    notwatched = re.compile(u'n\u00e3o visto', flags=re.IGNORECASE)\n",
      "    jdata = []\n",
      "    data_keys = ['container', 'screenSize', 'format', 'releaseGroup', 'year']\n",
      "    json_keys = {'container' : \"fileType\", 'screenSize' : \"resolution\", 'format' : \"format\", 'releaseGroup' : \"releaseGroup\", 'year' : 'year'}\n",
      "    swipe = []\n",
      "    for count in xrange(len(files)):\n",
      "        pair = files[count]\n",
      "        x = pair[0]\n",
      "        try:\n",
      "            tmp = guess_file_info(x, type='movie')\n",
      "        except UnicodeDecodeError as e:\n",
      "            normalized_x = unicodedata.normalize('NFKD', x).encode(locale.getpreferredencoding(),'ignore')\n",
      "            tmp = guess_file_info(normalized_x, type='movie')\n",
      "        tdic = {}\n",
      "        try:\n",
      "            title = tmp['title']\n",
      "        except KeyError as e:\n",
      "            print x\n",
      "            print tmp.nice_string()\n",
      "        try:\n",
      "            rg = tmp['releaseGroup']\n",
      "            aws = prog.search(rg)\n",
      "            if aws:\n",
      "                swipe.append(count)\n",
      "                continue\n",
      "        except KeyError:\n",
      "            pass\n",
      "\n",
      "        tdic['movie'] = title\n",
      "        tdic['fileName'] = pair[2]\n",
      "        tdic['fileSize'] = pair[1]\n",
      "        for key in data_keys:\n",
      "            try:\n",
      "                tdic[json_keys[key]] = tmp[key]\n",
      "            except KeyError:\n",
      "                tdic[json_keys[key]] = \"\"\n",
      "        \n",
      "\n",
      "        metadata = mediaObject(pair[0].encode(locale.getpreferredencoding()))\n",
      "        if metadata.getVideoCodec() is None:\n",
      "            swipe.append(count)\n",
      "            continue\n",
      "            \n",
      "        tlenght = time.strptime(metadata.getTotalRunningTimeRaw()[:-3], \"%H:%M:%S\")\n",
      "        \n",
      "        \n",
      "        try:\n",
      "            tdic['bitrateKbps'] = metadata.getVideoBitRate()/1000\n",
      "        except ValueError:\n",
      "            tdic['bitrateKbps'] = 8*metadata.getFileSize()/(1000 * (tlenght.tm_hour * 3600 + tlenght.tm_min *60 + tlenght.tm_sec))\n",
      "        \n",
      "        tdic['height'] = metadata.getVideoResolutionHeight()\n",
      "        tdic['width'] = metadata.getVideoResolutionWidth()\n",
      "        tdic['runtime'] = tlenght.tm_hour * 60 + tlenght.tm_min + math.trunc(float(tlenght.tm_sec)/60)       \n",
      "        if tdic['runtime'] < min_runtime:\n",
      "            swipe.append(count)\n",
      "            continue\n",
      "        wreg = notwatched.search(x)\n",
      "        if wreg:\n",
      "            tdic['watched'] = False\n",
      "        else:\n",
      "            tdic['watched'] = True\n",
      "        \n",
      "        jdata.append(tdic)\n",
      "    print swipe\n",
      "    return jdata, swipe"
     ],
     "language": "python",
     "metadata": {},
     "outputs": [],
     "prompt_number": 30
    },
    {
     "cell_type": "code",
     "collapsed": false,
     "input": [
      "folder = u\"C:/Users/Usuario/Downloads/Filmes\"\n",
      "files = get_files(folder) + get_files(u\"F:/Backup/Bibliotecas/Filmes/Vistos\") + get_files(u\"F:/Backup/Bibliotecas/Filmes/N\u00e3o Vistos\") \n",
      "print len(files)\n",
      "(jdata, swipe) = get_data(files)\n",
      "\n",
      "c = 0\n",
      "for pos in swipe:\n",
      "    del files[pos+c]\n",
      "    c -= 1\n",
      "print len(files)"
     ],
     "language": "python",
     "metadata": {},
     "outputs": [
      {
       "output_type": "stream",
       "stream": "stdout",
       "text": [
        "198\n",
        "[66, 148]"
       ]
      },
      {
       "output_type": "stream",
       "stream": "stdout",
       "text": [
        "\n",
        "196\n"
       ]
      }
     ],
     "prompt_number": 31
    },
    {
     "cell_type": "code",
     "collapsed": false,
     "input": [
      "used = []\n",
      "# manual_id = {}\n",
      "# u_agree_db = {}\n",
      "ia = imdb.IMDb() # by default access the web."
     ],
     "language": "python",
     "metadata": {},
     "outputs": [],
     "prompt_number": 32
    },
    {
     "cell_type": "code",
     "collapsed": false,
     "input": [
      "for i in xrange(len(jdata)):\n",
      "    if i in used:\n",
      "        continue\n",
      "    movie = jdata[i]\n",
      "    mtitle = movie['movie']\n",
      "    year = movie['year']\n",
      "    item = None\n",
      "    try:\n",
      "        items = ia.search_movie(u\"{} {}\".format(mtitle, year), 6)\n",
      "        for sitem in items:\n",
      "            if sitem['kind'] == 'movie':\n",
      "                item = sitem\n",
      "                break\n",
      "        if item is None:\n",
      "            raise IndexError\n",
      "        try:\n",
      "            flag = u_agree_db[files[i][2]]\n",
      "        except KeyError:\n",
      "            flag = userAgrees(files[i][2], item['long imdb title'])\n",
      "            u_agree_db[files[i][2]] = flag\n",
      "        if not flag:\n",
      "            raise IndexError\n",
      "    except IndexError:\n",
      "        if files[i][0] in manual_id:\n",
      "            item = ia.get_movie(manual_id[files[i][0]])\n",
      "        else:\n",
      "            print u\"I couldn't find the data for {}, please manually enter imdbID\".format(files[i][0])\n",
      "            in_ = raw_input(\"IMDB id: \").lstrip(\"tt\")\n",
      "            manual_id[files[i][0]] = in_\n",
      "            item = ia.get_movie(in_)\n",
      "        print mtitle, \"\\t\", item['long imdb title']\n",
      "    ia.update(item)\n",
      "    jdata[i]['movieImdb'] = item['long imdb title']\n",
      "    jdata[i]['movieLink'] = u'<a title=\"{}\" href=\"{}\" target=\"_blank\">{}</a>'.format(jdata[i]['movieImdb'], ia.get_imdbURL(item), jdata[i]['movieImdb'])\n",
      "    jdata[i]['id'] = item.movieID\n",
      "    jdata[i]['year'] = int(item['year'])\n",
      "    try:\n",
      "        jdata[i]['rating'] = item['rating']\n",
      "    except KeyError:\n",
      "        jdata[i]['rating'] = 0\n",
      "    used.append(i)"
     ],
     "language": "python",
     "metadata": {},
     "outputs": [
      {
       "output_type": "stream",
       "stream": "stdout",
       "text": [
        "Argo \tArgo (2012)\n",
        "Beginners"
       ]
      },
      {
       "output_type": "stream",
       "stream": "stdout",
       "text": [
        " \tBeginners (2010)\n",
        "Beirut"
       ]
      },
      {
       "output_type": "stream",
       "stream": "stdout",
       "text": [
        " \tCheap Magic Inside (2011)\n",
        "Black Swan"
       ]
      },
      {
       "output_type": "stream",
       "stream": "stdout",
       "text": [
        " \tBlack Swan (2010)\n",
        "yve-casablanca"
       ]
      },
      {
       "output_type": "stream",
       "stream": "stdout",
       "text": [
        " \tCasablanca (1942)\n",
        "Chinatown Roman Polanski"
       ]
      },
      {
       "output_type": "stream",
       "stream": "stdout",
       "text": [
        " \tChinatown (1974)\n",
        "Como Esquecer"
       ]
      },
      {
       "output_type": "stream",
       "stream": "stdout",
       "text": [
        " \tComo Esquecer (2010)\n",
        "Control"
       ]
      },
      {
       "output_type": "stream",
       "stream": "stdout",
       "text": [
        " \tControl (2007)\n",
        "Coracoes Sujos"
       ]
      },
      {
       "output_type": "stream",
       "stream": "stdout",
       "text": [
        " \tCora\u00e7\u00f5es Sujos (2011)\n",
        "by-B4rm4n"
       ]
      },
      {
       "output_type": "stream",
       "stream": "stdout",
       "text": [
        " \tCreation (I) (2009)\n",
        "Donnie Darko Dir Cut"
       ]
      },
      {
       "output_type": "stream",
       "stream": "stdout",
       "text": [
        " \tDonnie Darko (2001)\n",
        "F4rg0"
       ]
      },
      {
       "output_type": "stream",
       "stream": "stdout",
       "text": [
        " \tFargo (1996)\n",
        "I couldn't find the data for F:/Backup/Bibliotecas/Filmes/Vistos\\Goodbye.First.Love.2011.720p.BluRay.x264-UNVEiL [PublicHD]\\uvl-goodbyefirst720p.mkv, please manually enter imdbID"
       ]
      },
      {
       "output_type": "stream",
       "stream": "stdout",
       "text": [
        "\n"
       ]
      },
      {
       "name": "stdout",
       "output_type": "stream",
       "stream": "stdout",
       "text": [
        "IMDB id: tt1618447\n"
       ]
      },
      {
       "output_type": "stream",
       "stream": "stdout",
       "text": [
        "Goodbye First Love \tUn amour de jeunesse (2011)\n",
        "Gravity"
       ]
      },
      {
       "output_type": "stream",
       "stream": "stdout",
       "text": [
        " \tGravity (2013)\n",
        "Jeux d'Enfants"
       ]
      },
      {
       "output_type": "stream",
       "stream": "stdout",
       "text": [
        " \tJeux d'enfants (2003)\n",
        "L Auberge Espagnole"
       ]
      },
      {
       "output_type": "stream",
       "stream": "stdout",
       "text": [
        " \tL'auberge espagnole (2002)\n",
        "La Grande Vadrouille"
       ]
      },
      {
       "output_type": "stream",
       "stream": "stdout",
       "text": [
        " \tLa grande vadrouille (1966)\n",
        "Le Fabuleux Destin d'Amelie Poulain"
       ]
      },
      {
       "output_type": "stream",
       "stream": "stdout",
       "text": [
        " \tLe fabuleux destin d'Am\u00e9lie Poulain (2001)\n",
        "Love"
       ]
      },
      {
       "output_type": "stream",
       "stream": "stdout",
       "text": [
        " \tAmour (2012)\n",
        "Moon"
       ]
      },
      {
       "output_type": "stream",
       "stream": "stdout",
       "text": [
        " \tMoon (2009)\n",
        "O Cheiro do Ralo"
       ]
      },
      {
       "output_type": "stream",
       "stream": "stdout",
       "text": [
        " \tO Cheiro do Ralo (2006)\n",
        "O"
       ]
      },
      {
       "output_type": "stream",
       "stream": "stdout",
       "text": [
        " \tO Som ao Redor (2012)\n",
        "'s Labyrinth"
       ]
      },
      {
       "output_type": "stream",
       "stream": "stdout",
       "text": [
        " \tEl laberinto del fauno (2006)\n",
        "PBS POV The City Dark"
       ]
      },
      {
       "output_type": "stream",
       "stream": "stdout",
       "text": [
        " \tThe City Dark (2011)\n",
        "Perfect Blue"
       ]
      },
      {
       "output_type": "stream",
       "stream": "stdout",
       "text": [
        " \tPafekuto buru (1997)\n",
        "Source Code"
       ]
      },
      {
       "output_type": "stream",
       "stream": "stdout",
       "text": [
        " \tSource Code (2011)\n",
        "The Black Swan"
       ]
      },
      {
       "output_type": "stream",
       "stream": "stdout",
       "text": [
        " \tBlack Swan (2010)\n",
        "The Corporation Filmmakers Official Download Edition"
       ]
      },
      {
       "output_type": "stream",
       "stream": "stdout",
       "text": [
        " \tThe Corporation (2003)\n",
        "The Corporation Filmmakers Official Download Edition"
       ]
      },
      {
       "output_type": "stream",
       "stream": "stdout",
       "text": [
        " \tThe Corporation (2003)\n"
       ]
      },
      {
       "name": "stdout",
       "output_type": "stream",
       "stream": "stdout",
       "text": [
        "The.Hunt.[Jagten].2012.720p.BRRip.x264.HORiZON-ArtSubs.mkv  is The Hunt (2012) ? \n"
       ]
      },
      {
       "output_type": "stream",
       "stream": "stdout",
       "text": [
        "To Our Loves \t\u00c0 nos amours. (1983)\n",
        "Withnail And I"
       ]
      },
      {
       "output_type": "stream",
       "stream": "stdout",
       "text": [
        " \tWithnail & I (1987)\n",
        "I couldn't find the data for F:/Backup/Bibliotecas/Filmes/Vistos\\Zeitgeist.DVDRip.XviD\\Zeitgeist.DVDRip.XviD.avi, please manually enter imdbID"
       ]
      },
      {
       "output_type": "stream",
       "stream": "stdout",
       "text": [
        "\n"
       ]
      },
      {
       "name": "stdout",
       "output_type": "stream",
       "stream": "stdout",
       "text": [
        "IMDB id: tt1166827\n"
       ]
      },
      {
       "output_type": "stream",
       "stream": "stdout",
       "text": [
        "Zeitgeist \tZeitgeist (2007) (V)\n",
        "ITA-ENG-FRA"
       ]
      },
      {
       "output_type": "stream",
       "stream": "stdout",
       "text": [
        " \tPersepolis (2007)\n",
        "Crimes Temporais by badaui-UV"
       ]
      },
      {
       "output_type": "stream",
       "stream": "stdout",
       "text": [
        " \tLos cronocr\u00edmenes (2007)\n",
        "Deus E O Diabo"
       ]
      },
      {
       "output_type": "stream",
       "stream": "stdout",
       "text": [
        " \tDeus e o Diabo na Terra do Sol (1964)\n",
        "Deus E O Diabo"
       ]
      },
      {
       "output_type": "stream",
       "stream": "stdout",
       "text": [
        " \tDeus e o Diabo na Terra do Sol (1964)\n",
        "Kevin Mitnick Interview"
       ]
      },
      {
       "output_type": "stream",
       "stream": "stdout",
       "text": [
        " \tFreedom Downtime (2001)\n",
        "Gran Torino"
       ]
      },
      {
       "output_type": "stream",
       "stream": "stdout",
       "text": [
        " \tFreedom Downtime (2001)\n",
        "Gran Torino"
       ]
      },
      {
       "output_type": "stream",
       "stream": "stdout",
       "text": [
        " \tGran Torino (2008)\n",
        "muito alem do cidadao kane"
       ]
      },
      {
       "output_type": "stream",
       "stream": "stdout",
       "text": [
        " \tBeyond Citizen Kane (1993) (TV)\n",
        "Vozvrashchenie"
       ]
      },
      {
       "output_type": "stream",
       "stream": "stdout",
       "text": [
        " \tVozvrashchenie (2003)\n"
       ]
      }
     ],
     "prompt_number": 33
    },
    {
     "cell_type": "code",
     "collapsed": false,
     "input": [
      "jdata_sorted = sorted(jdata, key= lambda x:x['movieImdb'])\n",
      "aa = json.dumps(jdata_sorted, sort_keys = True, indent = 4, ensure_ascii=False)\n",
      "json.dump(jdata_sorted, codecs.open('json_data/mvdata.json', 'w', 'utf-8'), sort_keys = True, indent = 4, ensure_ascii=False)\n",
      "json.dump(jdata_sorted, codecs.open('../../movie_html/json_data/mvdata.json', 'w', 'utf-8'), sort_keys = True, indent = 4, ensure_ascii=False)"
     ],
     "language": "python",
     "metadata": {},
     "outputs": [],
     "prompt_number": 34
    },
    {
     "cell_type": "code",
     "collapsed": false,
     "input": [
      "pickle.dump(manual_id, open(\"manual_id.bak\", \"wb\"))\n",
      "pickle.dump(u_agree_db, open(\"u_agree_db.bak\", \"wb\"))\n",
      "pickle.dump(jdata, open(\"jdata.bak\", \"wb\"))"
     ],
     "language": "python",
     "metadata": {},
     "outputs": [],
     "prompt_number": 190
    },
    {
     "cell_type": "code",
     "collapsed": false,
     "input": [
      "manual_id = pickle.load(open(\"manual_id.bak\", \"rb\"))\n",
      "u_agree_db= pickle.load(open(\"u_agree_db.bak\", \"rb\"))"
     ],
     "language": "python",
     "metadata": {},
     "outputs": [],
     "prompt_number": 10
    },
    {
     "cell_type": "code",
     "collapsed": false,
     "input": [],
     "language": "python",
     "metadata": {},
     "outputs": []
    }
   ],
   "metadata": {}
  }
 ]
}