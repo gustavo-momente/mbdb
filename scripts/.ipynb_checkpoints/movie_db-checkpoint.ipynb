{
 "metadata": {
  "name": "",
  "signature": "sha256:613b65521501004850f9f5ac2ad8684b255279fb9433dbeadf69c6b6accf14d2"
 },
 "nbformat": 3,
 "nbformat_minor": 0,
 "worksheets": [
  {
   "cells": [
    {
     "cell_type": "code",
     "collapsed": false,
     "input": [
      "#! python\n",
      "# -*- coding: latin-1 -*-\n",
      "import os\n",
      "from guessit import guess_file_info\n",
      "import codecs\n",
      "from datetime import datetime\n",
      "import enzyme\n",
      "import json\n",
      "import re\n",
      "import math\n",
      "from ffprobe import FFProbe\n",
      "from avMetadataInfo import mediaObject\n",
      "import time\n",
      "import locale, unicodedata\n",
      "import imdb"
     ],
     "language": "python",
     "metadata": {},
     "outputs": [],
     "prompt_number": 110
    },
    {
     "cell_type": "code",
     "collapsed": false,
     "input": [
      "def userAgrees(p1, p2):\n",
      "    while True:\n",
      "        in_ = raw_input(u\"{}  is {} ? \".format(p1, p2))\n",
      "        if  in_ == \"\" or in_ == \"True\" or in_ == \"true\" or in_ == \"yes\" or in_ == \"y\" or in_ == \"Y\" or in_ == \"Yes\":\n",
      "            return True\n",
      "        elif in_ == \"False\" or in_ == \"false\" or in_ == \"no\" or in_ == \"n\" or in_ == \"N\" or in_ == \"No\":\n",
      "            return False"
     ],
     "language": "python",
     "metadata": {},
     "outputs": [],
     "prompt_number": 125
    },
    {
     "cell_type": "code",
     "collapsed": false,
     "input": [
      "def convertSize(size):\n",
      "    s = round(float(size)/long(1073741824), 2)\n",
      "    return '%s %s' % (s,\"GB\")\n",
      "#    size_name = (\"B\", \"KB\", \"MB\", \"GB\", \"TB\", \"PB\", \"EB\", \"ZB\", \"YB\")\n",
      "#    i = int(math.floor(math.log(size,1024)))\n",
      "#    p = math.pow(1024,i)\n",
      "#    s = round(size/p,2)\n",
      "#    if (s > 0):\n",
      "#        return '%s %s' % (s,size_name[i])\n",
      "#    else:\n",
      "#        return '0B'"
     ],
     "language": "python",
     "metadata": {},
     "outputs": [],
     "prompt_number": 111
    },
    {
     "cell_type": "code",
     "collapsed": false,
     "input": [
      "def getUser(path):\n",
      "    with open(path, 'r') as f:\n",
      "        a = f.read().strip()\n",
      "    data = a.split(';')\n",
      "    return (data[0], data[1])"
     ],
     "language": "python",
     "metadata": {},
     "outputs": [],
     "prompt_number": 112
    },
    {
     "cell_type": "code",
     "collapsed": false,
     "input": [
      "def sec2hours(seconds):\n",
      "    m, s = divmod(seconds, 60)\n",
      "    h, m = divmod(m, 60)\n",
      "    return \"%02d:%02d:%02d\" % (h, m, s)"
     ],
     "language": "python",
     "metadata": {},
     "outputs": [],
     "prompt_number": 113
    },
    {
     "cell_type": "code",
     "collapsed": false,
     "input": [
      "def get_files(folder, checked_files=[], file_types=[\".mp4\", \".mkv\", \".avi\"], min_size=long(100000000)):\n",
      "    files = []\n",
      "    for root, dirs, _files in os.walk(folder):\n",
      "        for name in _files:\n",
      "            if os.path.join(root, name) not in checked_files and name not in checked_files:\n",
      "                for ftype in file_types:\n",
      "                    if name.endswith(ftype):\n",
      "                        fsize = os.path.getsize(os.path.join(root, name))\n",
      "                        if fsize > min_size:\n",
      "                            files.append((os.path.join(root, name), convertSize(fsize), name))\n",
      "                            checked_files.append(name)\n",
      "                        break\n",
      "    \n",
      "    return files"
     ],
     "language": "python",
     "metadata": {},
     "outputs": [],
     "prompt_number": 114
    },
    {
     "cell_type": "code",
     "collapsed": false,
     "input": [
      "def get_data(files, min_runtime=5):\n",
      "    prog = re.compile('sample', flags=re.IGNORECASE)\n",
      "    jdata = []\n",
      "    data_keys = ['container', 'screenSize', 'format', 'releaseGroup', 'year']\n",
      "    json_keys = {'container' : \"fileType\", 'screenSize' : \"resolution\", 'format' : \"format\", 'releaseGroup' : \"releaseGroup\", 'year' : 'year'}\n",
      "    swipe = []\n",
      "    for count in xrange(len(files)):\n",
      "        pair = files[count]\n",
      "        x = pair[0]\n",
      "        try:\n",
      "            tmp = guess_file_info(x, type='movie')\n",
      "        except UnicodeDecodeError as e:\n",
      "            normalized_x = unicodedata.normalize('NFKD', x).encode(locale.getpreferredencoding(),'ignore')\n",
      "            tmp = guess_file_info(normalized_x, type='movie')\n",
      "        tdic = {}\n",
      "        try:\n",
      "            title = tmp['title']\n",
      "        except KeyError as e:\n",
      "            print x\n",
      "            print tmp.nice_string()\n",
      "        try:\n",
      "            rg = tmp['releaseGroup']\n",
      "            aws = prog.search(rg)\n",
      "            if aws:\n",
      "                swipe.append(count)\n",
      "                continue\n",
      "        except KeyError:\n",
      "            pass\n",
      "\n",
      "        tdic['movie'] = title\n",
      "        tdic['fileName'] = pair[2]\n",
      "        tdic['fileSize'] = pair[1]\n",
      "        for key in data_keys:\n",
      "            try:\n",
      "                tdic[json_keys[key]] = tmp[key]\n",
      "            except KeyError:\n",
      "                tdic[json_keys[key]] = \"\"\n",
      "        \n",
      "\n",
      "        metadata = mediaObject(pair[0].encode(locale.getpreferredencoding()))\n",
      "        if metadata.getVideoCodec() is None:\n",
      "            swipe.append(count)\n",
      "            continue\n",
      "            \n",
      "        tlenght = time.strptime(metadata.getTotalRunningTimeRaw()[:-3], \"%H:%M:%S\")\n",
      "        \n",
      "        \n",
      "        try:\n",
      "            tdic['bitrateKbps'] = metadata.getVideoBitRate()/1000\n",
      "        except ValueError:\n",
      "            tdic['bitrateKbps'] = 8*metadata.getFileSize()/(1000 * (tlenght.tm_hour * 3600 + tlenght.tm_min *60 + tlenght.tm_sec))\n",
      "        \n",
      "        tdic['height'] = metadata.getVideoResolutionHeight()\n",
      "        tdic['width'] = metadata.getVideoResolutionWidth()\n",
      "        tdic['runtime'] = tlenght.tm_hour * 60 + tlenght.tm_min + math.trunc(float(tlenght.tm_sec)/60)       \n",
      "        if tdic['runtime'] < min_runtime:\n",
      "            swipe.append(count)\n",
      "            continue\n",
      "        jdata.append(tdic)\n",
      "    print swipe\n",
      "    return jdata, swipe"
     ],
     "language": "python",
     "metadata": {},
     "outputs": [],
     "prompt_number": 115
    },
    {
     "cell_type": "code",
     "collapsed": false,
     "input": [
      "folder = u\"C:/Users/Usuario/Downloads/Filmes\"\n",
      "files = get_files(folder) + get_files(u\"F:/Backup/Bibliotecas/Filmes/Vistos\") + get_files(u\"F:/Backup/Bibliotecas/Filmes/N\u00e3o Vistos\") \n",
      "(jdata, swipe) = get_data(files)\n",
      "\n",
      "c = 0\n",
      "for pos in swipe:\n",
      "    del files[pos+c]\n",
      "    c += 1"
     ],
     "language": "python",
     "metadata": {},
     "outputs": [],
     "prompt_number": 116
    },
    {
     "cell_type": "code",
     "collapsed": false,
     "input": [
      "aa = json.dumps(jdata, sort_keys = True, indent = 4, ensure_ascii=False)\n",
      "json.dump(jdata, codecs.open('json_data/mvdata.json', 'w', 'utf-8'), sort_keys = True, indent = 4, ensure_ascii=False)\n",
      "json.dump(jdata, codecs.open('../../movie_html/json_data/mvdata.json', 'w', 'utf-8'), sort_keys = True, indent = 4, ensure_ascii=False)"
     ],
     "language": "python",
     "metadata": {},
     "outputs": [],
     "prompt_number": 130
    },
    {
     "cell_type": "code",
     "collapsed": false,
     "input": [
      "used = []\n",
      "# manual_id = {}\n",
      "# u_agree_db = {}\n",
      "ia = imdb.IMDb() # by default access the web."
     ],
     "language": "python",
     "metadata": {},
     "outputs": [],
     "prompt_number": 122
    },
    {
     "cell_type": "code",
     "collapsed": false,
     "input": [
      "for i in xrange(len(jdata)):\n",
      "    if i in used:\n",
      "        continue\n",
      "    movie = jdata[i]\n",
      "    mtitle = movie['movie']\n",
      "    year = movie['year']\n",
      "    item = None\n",
      "    try:\n",
      "        items = ia.search_movie(u\"{} {}\".format(mtitle, year), 6)\n",
      "        for sitem in items:\n",
      "            if sitem['kind'] == 'movie':\n",
      "                item = sitem\n",
      "                break\n",
      "        if item is None:\n",
      "            raise IndexError\n",
      "        try:\n",
      "            flag = u_agree_db[files[i][2]]\n",
      "        except KeyError:\n",
      "            flag = userAgrees(files[i][2], item['long imdb title'])\n",
      "            u_agree_db[files[i][2]] = flag\n",
      "        if not flag:\n",
      "            raise IndexError\n",
      "    except IndexError:\n",
      "        if files[i][0] in manual_id:\n",
      "            item = ia.get_movie(manual_id[files[i][0]])\n",
      "        else:\n",
      "            print u\"I couldn't find the data for {}, please manually enter imdbID\".format(files[i][0])\n",
      "            in_ = raw_input(\"IMDB id: \").lstrip(\"tt\")\n",
      "            manual_id[files[i][0]] = in_\n",
      "            item = ia.get_movie(in_)\n",
      "        print mtitle, \"\\t\", item['long imdb title']\n",
      "    jdata[i]['movieImdb'] = item['long imdb title']\n",
      "    jdata[i]['id'] = item.movieID\n",
      "    used.append(i)"
     ],
     "language": "python",
     "metadata": {},
     "outputs": [
      {
       "name": "stdout",
       "output_type": "stream",
       "stream": "stdout",
       "text": [
        "Blue.Is.The.Warmest.Color.2013.BluRay.1080p.x264.DTS.5.1-LTT.mkv  is Blue Is the Warmest Color (2013) ? \n"
       ]
      },
      {
       "name": "stdout",
       "output_type": "stream",
       "stream": "stdout",
       "text": [
        "blue.jasmine.2013.1080p.bluray.x264-sparks.mkv  is Blue Jasmine (2013) ? \n"
       ]
      },
      {
       "name": "stdout",
       "output_type": "stream",
       "stream": "stdout",
       "text": [
        "Boyhood.2014.1080p.BluRay.x264.YIFY.mp4  is Boyhood (I) (2014) ? \n"
       ]
      },
      {
       "name": "stdout",
       "output_type": "stream",
       "stream": "stdout",
       "text": [
        "Breathless.1960.BDRip.H264.AAC.Gopo.mp4  is Breathless (1960) ? \n"
       ]
      },
      {
       "output_type": "stream",
       "stream": "stdout",
       "text": [
        "yve-casablanca \tCasablanca (1942)\n"
       ]
      },
      {
       "name": "stdout",
       "output_type": "stream",
       "stream": "stdout",
       "text": [
        "Cashback.mp4  is Cashback (2006) ? \n"
       ]
      },
      {
       "name": "stdout",
       "output_type": "stream",
       "stream": "stdout",
       "text": [
        "Children Of Men.mkv  is Children of Men (2006) ? \n"
       ]
      },
      {
       "output_type": "stream",
       "stream": "stdout",
       "text": [
        "Chinatown Roman Polanski \tChinatown (1974)\n"
       ]
      },
      {
       "name": "stdout",
       "output_type": "stream",
       "stream": "stdout",
       "text": [
        "Como Esquecer.avi  is So Hard to Forget (2010) ? n\n"
       ]
      },
      {
       "output_type": "stream",
       "stream": "stdout",
       "text": [
        "I couldn't find the data for F:/Backup/Bibliotecas/Filmes/Vistos\\Como Esquecer\\Como Esquecer.avi, please manually enter imdbID\n"
       ]
      },
      {
       "name": "stdout",
       "output_type": "stream",
       "stream": "stdout",
       "text": [
        "IMDB id: tt1735853\n"
       ]
      },
      {
       "output_type": "stream",
       "stream": "stdout",
       "text": [
        "Como Esquecer \tComo Esquecer (2010)\n"
       ]
      },
      {
       "name": "stdout",
       "output_type": "stream",
       "stream": "stdout",
       "text": [
        "Computer.Chess.2013.WEB.1080p.h264-.mkv  is Computer Chess (2013) ? \n"
       ]
      },
      {
       "output_type": "stream",
       "stream": "stdout",
       "text": [
        "Control \tControl (2007)\n",
        "Coracoes Sujos"
       ]
      },
      {
       "output_type": "stream",
       "stream": "stdout",
       "text": [
        " \tCora\u00e7\u00f5es Sujos (2011)\n",
        "by-B4rm4n"
       ]
      },
      {
       "output_type": "stream",
       "stream": "stdout",
       "text": [
        " \tCreation (I) (2009)\n"
       ]
      },
      {
       "name": "stdout",
       "output_type": "stream",
       "stream": "stdout",
       "text": [
        "Dallas.Buyers.Club.2013.1080p.BluRay.x264.YIFY.mp4  is Dallas Buyers Club (2013) ? \n"
       ]
      },
      {
       "name": "stdout",
       "output_type": "stream",
       "stream": "stdout",
       "text": [
        "Delicatessen.1991.BRRip.H264.AAC.Gopo.mp4  is Delicatessen (1991) ? \n"
       ]
      },
      {
       "name": "stdout",
       "output_type": "stream",
       "stream": "stdout",
       "text": [
        "Detachment.2011.720p.BluRay.X264.YIFY.mp4  is Detachment (2011) ? \n"
       ]
      },
      {
       "name": "stdout",
       "output_type": "stream",
       "stream": "stdout",
       "text": [
        "Dirty.Pretty.Things.2002.DVDRip.H264.AAC.Gopo.mp4  is Dirty Pretty Things (2002) ? \n"
       ]
      },
      {
       "name": "stdout",
       "output_type": "stream",
       "stream": "stdout",
       "text": [
        "Dogtooth-Kynodontas [2009] 1080p BluRay DTS x264[Greek]-tomcat12[ETRG].mkv  is Dogtooth (2009) ? \n"
       ]
      },
      {
       "output_type": "stream",
       "stream": "stdout",
       "text": [
        "Donnie Darko Dir Cut \tDonnie Darko (2001)\n"
       ]
      },
      {
       "name": "stdout",
       "output_type": "stream",
       "stream": "stdout",
       "text": [
        "Donnie Darko[2001]DvDrip[Eng]-Bugz.avi  is Donnie Darko (2001) ? \n"
       ]
      },
      {
       "name": "stdout",
       "output_type": "stream",
       "stream": "stdout",
       "text": [
        "Drive.2011.720p.BDRip.XviD.AC3-ViSiON.avi  is Drive (I) (2011) ? \n"
       ]
      },
      {
       "name": "stdout",
       "output_type": "stream",
       "stream": "stdout",
       "text": [
        "Enter the Void 2009.mkv  is Enter the Void (2009) ? \n"
       ]
      },
      {
       "name": "stdout",
       "output_type": "stream",
       "stream": "stdout",
       "text": [
        "Eyes Wide Shut [BDRip-1080p-MultiLang-MultiSub-Chapters][RiP By MaX].mkv  is Eyes Wide Shut (1999) ? \n"
       ]
      },
      {
       "output_type": "stream",
       "stream": "stdout",
       "text": [
        "F4rg0 \tFargo (1996)\n"
       ]
      },
      {
       "name": "stdout",
       "output_type": "stream",
       "stream": "stdout",
       "text": [
        "Fight Club 1999 720p BDRip H.264 5.1 AC3-frapper(HDScene-Release).mkv  is Fight Club (1999) ? \n"
       ]
      },
      {
       "name": "stdout",
       "output_type": "stream",
       "stream": "stdout",
       "text": [
        "Forrest Gump (1994) 720p BRRip x264 AAC-PhoenixRG.mp4  is Forrest Gump (1994) ? \n"
       ]
      },
      {
       "name": "stdout",
       "output_type": "stream",
       "stream": "stdout",
       "text": [
        "Frances Ha 2012 720p BluRay DD5.1 x264-DON.mkv  is Frances Ha (2012) ? \n"
       ]
      },
      {
       "name": "stdout",
       "output_type": "stream",
       "stream": "stdout",
       "text": [
        "Fury.2014.1080p.WEB-DL.DD5.1.H264-RARBG.mkv  is Fury (2014) ? \n"
       ]
      },
      {
       "name": "stdout",
       "output_type": "stream",
       "stream": "stdout",
       "text": [
        "Garden.State.2004.BluRay.720p.DTS.x264-CHD.mkv  is Garden State (2004) ? \n"
       ]
      },
      {
       "name": "stdout",
       "output_type": "stream",
       "stream": "stdout",
       "text": [
        "God.Help.the.Girl.2014.720p.HDRip.x264.AC3.5.1-RARBG.mkv  is God Help the Girl (2014) ? \n"
       ]
      },
      {
       "name": "stdout",
       "output_type": "stream",
       "stream": "stdout",
       "text": [
        "Good Bye Lenin (2003) 720p_WEB_DL_sujaidr.mp4  is Good Bye Lenin! (2003) ? \n"
       ]
      },
      {
       "name": "stdout",
       "output_type": "stream",
       "stream": "stdout",
       "text": [
        "uvl-goodbyefirst720p.mkv  is Goodbye, First Love (2013) ? \n"
       ]
      },
      {
       "name": "stdout",
       "output_type": "stream",
       "stream": "stdout",
       "text": [
        "GoodFellas 1990 BDRip.mp4  is Goodfellas (1990) ? \n"
       ]
      },
      {
       "name": "stdout",
       "output_type": "stream",
       "stream": "stdout",
       "text": [
        "Gravity.2013.1080p.WEB-DL.H264-PublicHD.mkv  is PlayGravity 2 (2010) ? n\n"
       ]
      },
      {
       "output_type": "stream",
       "stream": "stdout",
       "text": [
        "I couldn't find the data for F:/Backup/Bibliotecas/Filmes/Vistos\\Gravity.2013.1080p.WEB-DL.H264-PublicHD\\Gravity.2013.1080p.WEB-DL.H264-PublicHD.mkv, please manually enter imdbID\n"
       ]
      },
      {
       "name": "stdout",
       "output_type": "stream",
       "stream": "stdout",
       "text": [
        "IMDB id: tt1454468\n"
       ]
      },
      {
       "output_type": "stream",
       "stream": "stdout",
       "text": [
        "Gravity \tGravity (2013)\n"
       ]
      },
      {
       "name": "stdout",
       "output_type": "stream",
       "stream": "stdout",
       "text": [
        "Gregorys.Girl.1981.1080p.BluRay.x264.YIFY.mp4  is Gregory's Girl (1981) ? \n"
       ]
      },
      {
       "name": "stdout",
       "output_type": "stream",
       "stream": "stdout",
       "text": [
        "Habemus Papam 720p DivX H.264 (moviesbyrizzo).mkv  is We Have a Pope (2011) ? \n"
       ]
      },
      {
       "name": "stdout",
       "output_type": "stream",
       "stream": "stdout",
       "text": [
        "Her.2013.1080p.BluRay.x264-SPARKS.mkv  is Her (2013) ? \n"
       ]
      },
      {
       "name": "stdout",
       "output_type": "stream",
       "stream": "stdout",
       "text": [
        "In.A.Better.World.(H\u00e6vnen).NoSubbed.DVDRip.AC3.HORiZON-ArtSubs.avi  is In a Better World (2010) ? \n"
       ]
      },
      {
       "name": "stdout",
       "output_type": "stream",
       "stream": "stdout",
       "text": [
        "arrow-inception.cd1.avi  is Inception (2010) ? \n"
       ]
      },
      {
       "name": "stdout",
       "output_type": "stream",
       "stream": "stdout",
       "text": [
        "arrow-inception.cd2.avi  is Inception (2010) ? \n"
       ]
      },
      {
       "name": "stdout",
       "output_type": "stream",
       "stream": "stdout",
       "text": [
        "Into the Wild[2007]DvDrip[Eng]-FXG.avi  is Into the Wild (2007) ? \n"
       ]
      },
      {
       "name": "stdout",
       "output_type": "stream",
       "stream": "stdout",
       "text": [
        "jeff.who.lives.at.home.2011.limited.720p.bluray.x264-sparks.publichd.mkv  is Jeff, Who Lives at Home (2011) ? \n"
       ]
      },
      {
       "name": "stdout",
       "output_type": "stream",
       "stream": "stdout",
       "text": [
        "Jeux d'Enfants (2003) - French DVDRip.avi  is Jeux d'enfants (1986) ? \n"
       ]
      },
      {
       "name": "stdout",
       "output_type": "stream",
       "stream": "stdout",
       "text": [
        "L'Enfance nue.1968.avi  is Naked Childhood (1968) ? \n"
       ]
      },
      {
       "output_type": "stream",
       "stream": "stdout",
       "text": [
        "L Auberge Espagnole \tL'auberge espagnole (2002)\n"
       ]
      },
      {
       "name": "stdout",
       "output_type": "stream",
       "stream": "stdout",
       "text": [
        "La Grande Vadrouille 720p x264 FRENCH.mp4  is Don't Look Now... We're Being Shot At! (1966) ? n\n"
       ]
      },
      {
       "output_type": "stream",
       "stream": "stdout",
       "text": [
        "I couldn't find the data for F:/Backup/Bibliotecas/Filmes/Vistos\\La Grande Vadrouille 720p x264 FRENCH\\La Grande Vadrouille 720p x264 FRENCH.mp4, please manually enter imdbID\n"
       ]
      },
      {
       "name": "stdout",
       "output_type": "stream",
       "stream": "stdout",
       "text": [
        "IMDB id: tt0060474\n"
       ]
      },
      {
       "output_type": "stream",
       "stream": "stdout",
       "text": [
        "La Grande Vadrouille \tLa grande vadrouille (1966)\n"
       ]
      },
      {
       "name": "stdout",
       "output_type": "stream",
       "stream": "stdout",
       "text": [
        "La science des reves 2006.mkv  is The Science of Sleep (2006) ? \n"
       ]
      },
      {
       "name": "stdout",
       "output_type": "stream",
       "stream": "stdout",
       "text": [
        "Lars and the Real Girl.mp4  is Lars and the Real Girl (2007) ? \n"
       ]
      },
      {
       "name": "stdout",
       "output_type": "stream",
       "stream": "stdout",
       "text": [
        "Le Charme Discret De La Bourgeoisie (1972) Luis Bunuel.avi  is The Discreet Charm of the Bourgeoisie (1972) ? \n"
       ]
      },
      {
       "name": "stdout",
       "output_type": "stream",
       "stream": "stdout",
       "text": [
        "Le Fabuleux Destin d'Amelie Poulain - Amelie.avi  is Am\u00e9lie (2001) ? n\n"
       ]
      },
      {
       "output_type": "stream",
       "stream": "stdout",
       "text": [
        "I couldn't find the data for F:/Backup/Bibliotecas/Filmes/Vistos\\Le Fabuleux Destin d'Amelie Poulain - Amelie\\Le Fabuleux Destin d'Amelie Poulain - Amelie.avi, please manually enter imdbID\n"
       ]
      },
      {
       "name": "stdout",
       "output_type": "stream",
       "stream": "stdout",
       "text": [
        "IMDB id: tt0211915\n"
       ]
      },
      {
       "output_type": "stream",
       "stream": "stdout",
       "text": [
        "Le Fabuleux Destin d'Amelie Poulain \tLe fabuleux destin d'Am\u00e9lie Poulain (2001)\n"
       ]
      },
      {
       "name": "stdout",
       "output_type": "stream",
       "stream": "stdout",
       "text": [
        "Leon.1994.Directors.Cut.BluRay.720p.DTS.2Audio.x264-CHD.mkv  is L\u00e9on: The Professional (1994) ? \n"
       ]
      },
      {
       "name": "stdout",
       "output_type": "stream",
       "stream": "stdout",
       "text": [
        "Life Is Beautiful -La Vita E Bella (1997) Dual Audio English Italian.mkv  is Life Is Beautiful (1997) ? \n"
       ]
      },
      {
       "name": "stdout",
       "output_type": "stream",
       "stream": "stdout",
       "text": [
        "Limitless.2011.720p.BrRip.x264.YIFY.mp4  is Limitless (I) (2011) ? \n"
       ]
      },
      {
       "name": "stdout",
       "output_type": "stream",
       "stream": "stdout",
       "text": [
        "Lock.Stock.and.Two.Smoking.Barrels.1998.720p.BRRip.XviD.AC3 - CODYa a a.avi  is Lock, Stock and Two Smoking Barrels (1998) ? \n"
       ]
      },
      {
       "name": "stdout",
       "output_type": "stream",
       "stream": "stdout",
       "text": [
        "LONESOME JIM [2005] DVB Rip Xvid [StB].avi  is Lonesome Jim (2005) ? \n"
       ]
      },
      {
       "name": "stdout",
       "output_type": "stream",
       "stream": "stdout",
       "text": [
        "Looper 2012 DVDRip AC3 XViD-RemixHD.avi  is Looper (2012) ? \n"
       ]
      },
      {
       "name": "stdout",
       "output_type": "stream",
       "stream": "stdout",
       "text": [
        "Lost.in.Translation.2003.BluRay.720p.x264.YIFY.mkv  is Lost in Translation (2003) ? \n"
       ]
      },
      {
       "name": "stdout",
       "output_type": "stream",
       "stream": "stdout",
       "text": [
        "Love.[Amour].2012.BRRip.AC3.HORiZON.avi  is Love 2.0 (2014) ? n\n"
       ]
      },
      {
       "output_type": "stream",
       "stream": "stdout",
       "text": [
        "I couldn't find the data for F:/Backup/Bibliotecas/Filmes/Vistos\\Love.[Amour].2012.BRRip.AC3.HORiZON\\Love.[Amour].2012.BRRip.AC3.HORiZON.avi, please manually enter imdbID\n"
       ]
      },
      {
       "name": "stdout",
       "output_type": "stream",
       "stream": "stdout",
       "text": [
        "IMDB id: tt1602620\n"
       ]
      },
      {
       "output_type": "stream",
       "stream": "stdout",
       "text": [
        "Love \tAmour (2012)\n"
       ]
      },
      {
       "name": "stdout",
       "output_type": "stream",
       "stream": "stdout",
       "text": [
        "Malena [2000][DVDRIP-ITA][Uncut].avi  is Mal\u00e8na (2000) ? \n"
       ]
      },
      {
       "name": "stdout",
       "output_type": "stream",
       "stream": "stdout",
       "text": [
        "melancholia.720p.bluray.x264-leverage.mkv  is Melancholia (2011) ? \n"
       ]
      },
      {
       "name": "stdout",
       "output_type": "stream",
       "stream": "stdout",
       "text": [
        "Moonrise.Kingdom.2012.720p.BluRay.x264.YIFY.mp4  is Moonrise Kingdom (2012) ? \n"
       ]
      },
      {
       "name": "stdout",
       "output_type": "stream",
       "stream": "stdout",
       "text": [
        "Moon[2009]DvDrip[Eng]-FXG.avi  is RingCon 2009 (2009) ? n\n"
       ]
      },
      {
       "output_type": "stream",
       "stream": "stdout",
       "text": [
        "I couldn't find the data for F:/Backup/Bibliotecas/Filmes/Vistos\\Moon[2009]DvDrip[Eng]-FXG\\Moon[2009]DvDrip[Eng]-FXG.avi, please manually enter imdbID\n"
       ]
      },
      {
       "name": "stdout",
       "output_type": "stream",
       "stream": "stdout",
       "text": [
        "IMDB id: tt1182345\n"
       ]
      },
      {
       "output_type": "stream",
       "stream": "stdout",
       "text": [
        "Moon \tMoon (2009)\n"
       ]
      },
      {
       "name": "stdout",
       "output_type": "stream",
       "stream": "stdout",
       "text": [
        "My.Neighbor.Totoro.1988.720p.BluRay.X264-AMIABLE.mkv  is My Neighbor Totoro (1988) ? \n"
       ]
      },
      {
       "name": "stdout",
       "output_type": "stream",
       "stream": "stdout",
       "text": [
        "Never Let Me Go (2010).mkv  is Never Let Me Go (2010) ? \n"
       ]
      },
      {
       "name": "stdout",
       "output_type": "stream",
       "stream": "stdout",
       "text": [
        "O.Cheiro.do.Ralo.DVDRip.XviD-pedr1nho.avi  is Drained (2006) ? n\n"
       ]
      },
      {
       "output_type": "stream",
       "stream": "stdout",
       "text": [
        "I couldn't find the data for F:/Backup/Bibliotecas/Filmes/Vistos\\O.Cheiro.do.Ralo.DVDRip.XviD-pedr1nho\\O.Cheiro.do.Ralo.DVDRip.XviD-pedr1nho.avi, please manually enter imdbID\n"
       ]
      },
      {
       "name": "stdout",
       "output_type": "stream",
       "stream": "stdout",
       "text": [
        "IMDB id: tt0489458\n"
       ]
      },
      {
       "output_type": "stream",
       "stream": "stdout",
       "text": [
        "O Cheiro do Ralo \tO Cheiro do Ralo (2006)\n"
       ]
      },
      {
       "name": "stdout",
       "output_type": "stream",
       "stream": "stdout",
       "text": [
        "O.Som.ao.Redor.2012.720p.WEB-DL.x264-BiG.mkv  is 2012 (I) (2009) ? n\n"
       ]
      },
      {
       "output_type": "stream",
       "stream": "stdout",
       "text": [
        "I couldn't find the data for F:/Backup/Bibliotecas/Filmes/Vistos\\O.Som.ao.Redor.2012.720p.WEB-DL.x264-BiG\\O.Som.ao.Redor.2012.720p.WEB-DL.x264-BiG.mkv, please manually enter imdbID\n"
       ]
      },
      {
       "name": "stdout",
       "output_type": "stream",
       "stream": "stdout",
       "text": [
        "IMDB id: tt2190367\n"
       ]
      },
      {
       "output_type": "stream",
       "stream": "stdout",
       "text": [
        "O \tO Som ao Redor (2012)\n"
       ]
      },
      {
       "name": "stdout",
       "output_type": "stream",
       "stream": "stdout",
       "text": [
        "October.Sky.1999.DVDRip.avi  is October Sky (1999) ? \n"
       ]
      },
      {
       "name": "stdout",
       "output_type": "stream",
       "stream": "stdout",
       "text": [
        "Oldboy 2003 BRRip 720p x264 AAC-BeLLBoY (Kingdom-Release).mkv  is Oldboy (2003) ? \n"
       ]
      },
      {
       "name": "stdout",
       "output_type": "stream",
       "stream": "stdout",
       "text": [
        "One.Flew.Over.The.Cuckoo's.Nest.720p.BrRip.x264.YIFY.mp4  is One Flew Over the Cuckoo's Nest (1975) ? \n"
       ]
      },
      {
       "output_type": "stream",
       "stream": "stdout",
       "text": [
        "'s Labyrinth \tEl laberinto del fauno (2006)\n"
       ]
      },
      {
       "name": "stdout",
       "output_type": "stream",
       "stream": "stdout",
       "text": [
        "Paprika (2006) 1080p [Jpn 5.1 & Eng 5.1] Blu-ray.mp4  is Paprika (2006) ? \n"
       ]
      },
      {
       "name": "stdout",
       "output_type": "stream",
       "stream": "stdout",
       "text": [
        "Paris, Texas [BDrip m1080p Dual AC3 Esp-Eng+subs].mkv  is Paris, Texas (1984) ? \n"
       ]
      },
      {
       "output_type": "stream",
       "stream": "stdout",
       "text": [
        "PBS POV The City Dark \tThe City Dark (2011)\n"
       ]
      },
      {
       "name": "stdout",
       "output_type": "stream",
       "stream": "stdout",
       "text": [
        "Perfect Blue (1997) 1080p [Jpn 5.1 & Eng 5.1] Blu-ray.mp4  is The Perfect Blue (1997) ? n\n"
       ]
      },
      {
       "output_type": "stream",
       "stream": "stdout",
       "text": [
        "I couldn't find the data for F:/Backup/Bibliotecas/Filmes/Vistos\\Perfect Blue (1997) 1080p [Jpn 5.1 & Eng 5.1] Blu-ray\\Perfect Blue (1997) 1080p [Jpn 5.1 & Eng 5.1] Blu-ray.mp4, please manually enter imdbID\n"
       ]
      },
      {
       "name": "stdout",
       "output_type": "stream",
       "stream": "stdout",
       "text": [
        "IMDB id: tt0156887\n"
       ]
      },
      {
       "output_type": "stream",
       "stream": "stdout",
       "text": [
        "Perfect Blue \tPafekuto buru (1997)\n"
       ]
      },
      {
       "name": "stdout",
       "output_type": "stream",
       "stream": "stdout",
       "text": [
        "Perfect.Sense.2011.LIMITED.1080p.BluRay.x264.anoXmous_.mp4  is Perfect Sense (2011) ? \n"
       ]
      },
      {
       "name": "stdout",
       "output_type": "stream",
       "stream": "stdout",
       "text": [
        "Pierrot.Le.Fou.1965.720p.BluRay.x264-CiNEFiLE.mkv  is Pierrot le Fou (1965) ? \n"
       ]
      },
      {
       "name": "stdout",
       "output_type": "stream",
       "stream": "stdout",
       "text": [
        "Predestination.2014.1080p.BluRay.H264.AAC-RARBG.mp4  is Predestination (2014) ? \n"
       ]
      },
      {
       "name": "stdout",
       "output_type": "stream",
       "stream": "stdout",
       "text": [
        "Prisoners.2013.720p.WEB-DL.H264-PublicHD.mkv  is Prisoners (2013) ? \n"
       ]
      },
      {
       "name": "stdout",
       "output_type": "stream",
       "stream": "stdout",
       "text": [
        "Quadrophenia 1979 720p BRRip .mkv  is Quadrophenia (1979) ? \n"
       ]
      },
      {
       "name": "stdout",
       "output_type": "stream",
       "stream": "stdout",
       "text": [
        "Rain Man {1988} by Mr. KickASS.mp4  is Rain Man (1988) ? \n"
       ]
      },
      {
       "name": "stdout",
       "output_type": "stream",
       "stream": "stdout",
       "text": [
        "ratcatcher-rtl.avi  is Ratcatcher (1999) ? \n"
       ]
      },
      {
       "name": "stdout",
       "output_type": "stream",
       "stream": "stdout",
       "text": [
        "Rushmore (1998) BRRip 720p_sujaidr.mkv  is Rushmore (1998) ? \n"
       ]
      },
      {
       "name": "stdout",
       "output_type": "stream",
       "stream": "stdout",
       "text": [
        "Scenes from the Suburbs.mp4  is Scenes from the Suburbs (2011) ? \n"
       ]
      },
      {
       "name": "stdout",
       "output_type": "stream",
       "stream": "stdout",
       "text": [
        "Scott.Pilgrim.vs.the.World.2010.Bluray.720p.x264.YIFY.mp4  is Scott Pilgrim vs. the World (2010) ? \n"
       ]
      },
      {
       "name": "stdout",
       "output_type": "stream",
       "stream": "stdout",
       "text": [
        "Se7en[1995]DvDrip[Eng]-Stealthmaster.avi  is Se7en (1995) ? \n"
       ]
      },
      {
       "name": "stdout",
       "output_type": "stream",
       "stream": "stdout",
       "text": [
        "Silver.Linings.Playbook.2012.720p.x264.YIFY.mp4  is Silver Linings Playbook (2012) ? \n"
       ]
      },
      {
       "name": "stdout",
       "output_type": "stream",
       "stream": "stdout",
       "text": [
        "Smultronstallet.avi  is Wild Strawberries (1957) ? \n"
       ]
      },
      {
       "name": "stdout",
       "output_type": "stream",
       "stream": "stdout",
       "text": [
        "Source Code.mp4  is Source Code 2 (????) ? n\n"
       ]
      },
      {
       "output_type": "stream",
       "stream": "stdout",
       "text": [
        "I couldn't find the data for F:/Backup/Bibliotecas/Filmes/Vistos\\Source Code 2011 BRRip 720p H264-3Li\\Source Code.mp4, please manually enter imdbID\n"
       ]
      },
      {
       "name": "stdout",
       "output_type": "stream",
       "stream": "stdout",
       "text": [
        "IMDB id: tt0945513\n"
       ]
      },
      {
       "output_type": "stream",
       "stream": "stdout",
       "text": [
        "Source Code \tSource Code (2011)\n"
       ]
      },
      {
       "name": "stdout",
       "output_type": "stream",
       "stream": "stdout",
       "text": [
        "Speak.2004.DVDRip.XviD-SWiFT.avi  is Speak (2004) ? \n"
       ]
      },
      {
       "name": "stdout",
       "output_type": "stream",
       "stream": "stdout",
       "text": [
        "Starred.Up.2013.720p.BDRIP.x264.AC3-EVE.mp4  is Starred Up (2013) ? \n"
       ]
      },
      {
       "name": "stdout",
       "output_type": "stream",
       "stream": "stdout",
       "text": [
        "Submarine.2010.720p.BrRip.x264YIFY.mp4  is Submarine (2010) ? \n"
       ]
      },
      {
       "name": "stdout",
       "output_type": "stream",
       "stream": "stdout",
       "text": [
        "Super Size Me.avi  is Super Size Me (2004) ? \n"
       ]
      },
      {
       "name": "stdout",
       "output_type": "stream",
       "stream": "stdout",
       "text": [
        "Sweet.Smell.of.Success.1957.BDRip.H264.AAC.Gopo.mp4  is Sweet Smell of Success (1957) ? \n"
       ]
      },
      {
       "name": "stdout",
       "output_type": "stream",
       "stream": "stdout",
       "text": [
        "taxi.driver.1976.4k.remastered.1080p.bluray.dts-hd.ma.x264-publichd.mkv  is Taxi Driver (1976) ? \n"
       ]
      },
      {
       "name": "stdout",
       "output_type": "stream",
       "stream": "stdout",
       "text": [
        "The.Big.Lebowski.1998.720p.BrRip.x264.YIFY.mp4  is The Big Lebowski (1998) ? \n"
       ]
      },
      {
       "name": "stdout",
       "output_type": "stream",
       "stream": "stdout",
       "text": [
        "Black.Swan[2010]DvDRip[Eng]-PiRaTeS.avi  is The Black Swan (1942) ? n\n"
       ]
      },
      {
       "output_type": "stream",
       "stream": "stdout",
       "text": [
        "I couldn't find the data for F:/Backup/Bibliotecas/Filmes/Vistos\\The Black Swan [2010]\\Black.Swan[2010]DvDRip[Eng]-PiRaTeS.avi, please manually enter imdbID\n"
       ]
      },
      {
       "name": "stdout",
       "output_type": "stream",
       "stream": "stdout",
       "text": [
        "IMDB id: tt0947798\n"
       ]
      },
      {
       "output_type": "stream",
       "stream": "stdout",
       "text": [
        "The Black Swan \tBlack Swan (2010)\n",
        "The Corporation Filmmakers Official Download Edition"
       ]
      },
      {
       "output_type": "stream",
       "stream": "stdout",
       "text": [
        " \tThe Corporation (2003)\n",
        "The Corporation Filmmakers Official Download Edition"
       ]
      },
      {
       "output_type": "stream",
       "stream": "stdout",
       "text": [
        " \tThe Corporation (2003)\n"
       ]
      },
      {
       "name": "stdout",
       "output_type": "stream",
       "stream": "stdout",
       "text": [
        "The Darjeeling Limited (2007) 720p BRRip_suN_sujaidr.mkv  is The Darjeeling Limited (2007) ? \n"
       ]
      },
      {
       "name": "stdout",
       "output_type": "stream",
       "stream": "stdout",
       "text": [
        "The Dreamers [Uncut NC-17] (2003) [1080p] x264 - Jalucian.mp4  is The Dreamers (2003) ? \n"
       ]
      },
      {
       "name": "stdout",
       "output_type": "stream",
       "stream": "stdout",
       "text": [
        "The Graduate {1967} by Mr. KickASS.mp4  is The Graduate (1967) ? \n"
       ]
      },
      {
       "name": "stdout",
       "output_type": "stream",
       "stream": "stdout",
       "text": [
        "The Imaginarium of Doctor Parnassus (2009) 720p.mkv  is The Imaginarium of Doctor Parnassus (2009) ? \n"
       ]
      },
      {
       "name": "stdout",
       "output_type": "stream",
       "stream": "stdout",
       "text": [
        "The Kid With A Bike 2011 720p BRRip x264 AAC-26K.mp4  is The Kid with a Bike (2011) ? \n"
       ]
      },
      {
       "name": "stdout",
       "output_type": "stream",
       "stream": "stdout",
       "text": [
        "The.Life.Aquatic.With.Steve.Zissou.2004.720p.BrRip.x264.YIFY.mp4  is The Life Aquatic with Steve Zissou (2004) ? \n"
       ]
      },
      {
       "name": "stdout",
       "output_type": "stream",
       "stream": "stdout",
       "text": [
        "The Machinist.mp4  is The Machinist (2004) ? \n"
       ]
      },
      {
       "name": "stdout",
       "output_type": "stream",
       "stream": "stdout",
       "text": [
        "The.Perks.of.Being.a.Wallflower.2012.1080p.BRrip.x264.GAZ.YIFY.mp4  is The Perks of Being a Wallflower (2012) ? \n"
       ]
      },
      {
       "name": "stdout",
       "output_type": "stream",
       "stream": "stdout",
       "text": [
        "The.Raven.2012.720p.BluRay.x264.YIFY.mp4  is The Raven (I) (2012) ? \n"
       ]
      },
      {
       "name": "stdout",
       "output_type": "stream",
       "stream": "stdout",
       "text": [
        "The.shining.1980.720p.x264.mkv  is The Shining (1980) ? \n"
       ]
      },
      {
       "name": "stdout",
       "output_type": "stream",
       "stream": "stdout",
       "text": [
        "The.Matrix.1999.Bluray.1080p.BluRay.x264.anoXmous.mp4  is The Matrix (1999) ? \n"
       ]
      },
      {
       "name": "stdout",
       "output_type": "stream",
       "stream": "stdout",
       "text": [
        "The.Matrix.Reloaded.2003.1080p.BluRay.x264.anoXmous_.mp4  is The Matrix Reloaded (2003) ? \n"
       ]
      },
      {
       "name": "stdout",
       "output_type": "stream",
       "stream": "stdout",
       "text": [
        "The.Matrix.Revolutions.2003.1080p.BluRay.x264.anoXmous_.mp4  is The Matrix Revolutions (2003) ? \n"
       ]
      },
      {
       "name": "stdout",
       "output_type": "stream",
       "stream": "stdout",
       "text": [
        "The.First.Day.of.the.Rest.of.Your.Life.2008.BluRay.720p.DTS.x264-CHD.mkv  is The First Day of the Rest of Your Life (2008) ? \n"
       ]
      },
      {
       "name": "stdout",
       "output_type": "stream",
       "stream": "stdout",
       "text": [
        "blow-the.grand.budapest.hotel.2014.1080p.bluray.x264.mkv  is The Grand Budapest Hotel (2014) ? \n"
       ]
      },
      {
       "name": "stdout",
       "output_type": "stream",
       "stream": "stdout",
       "text": [
        "blow-the.grand.budapest.hotel.2014.1080p.bluray.x264-sample.mkv  is The Hobbit: An Unexpected Journey (2012) ? \n"
       ]
      },
      {
       "name": "stdout",
       "output_type": "stream",
       "stream": "stdout",
       "text": [
        "The Hobbit An Unexpected Journey 2012 720p BluRay x264-SPARKS.mkv  is The Hunt (2012) ? \n"
       ]
      },
      {
       "name": "stdout",
       "output_type": "stream",
       "stream": "stdout",
       "text": [
        "The.Secret.in.Their.Eyes.2009.720p.BluRay.x264.anoXmous_.mp4  is The Secret in Their Eyes (2009) ? \n"
       ]
      },
      {
       "name": "stdout",
       "output_type": "stream",
       "stream": "stdout",
       "text": [
        "The.Seventh.Seal.1957.CRITERION.DVDRip.x264.AC3-KARiNA.mkv  is The Seventh Seal (1957) ? \n"
       ]
      },
      {
       "name": "stdout",
       "output_type": "stream",
       "stream": "stdout",
       "text": [
        "The.Skin.I.Live.In.2011.720p.Bluray.x264.anoXmous.mp4  is The Skin I Live In (2011) ? \n"
       ]
      },
      {
       "name": "stdout",
       "output_type": "stream",
       "stream": "stdout",
       "text": [
        "The.Tenant.1976.720p.WEB-DL.AAC2.0.H.264-ViGi.mkv  is The Tenant (1976) ? \n"
       ]
      },
      {
       "name": "stdout",
       "output_type": "stream",
       "stream": "stdout",
       "text": [
        "The.Tin.Drum.1979.DC.x264.DTS-WAF.mkv  is The Tin Drum (1979) ? \n"
       ]
      },
      {
       "name": "stdout",
       "output_type": "stream",
       "stream": "stdout",
       "text": [
        "The.Truman.Show.DVDRip.DivX.avi  is The Truman Show (1998) ? \n"
       ]
      },
      {
       "name": "stdout",
       "output_type": "stream",
       "stream": "stdout",
       "text": [
        "The.Wolf.of.Wall.Street.2013.720p.BluRay.X264-AMIABLE.mkv  is The Wolf of Wall Street (2013) ? \n"
       ]
      },
      {
       "name": "stdout",
       "output_type": "stream",
       "stream": "stdout",
       "text": [
        "THE_ROYAL_TENENBAUMS_t00.mkv  is The Royal Tenenbaums (2001) ? \n"
       ]
      },
      {
       "name": "stdout",
       "output_type": "stream",
       "stream": "stdout",
       "text": [
        "a.nos.amours.1983.french.720p.bluray.x264-rough.mkv  is To Our Loves (1983) ? n\n"
       ]
      },
      {
       "output_type": "stream",
       "stream": "stdout",
       "text": [
        "I couldn't find the data for F:/Backup/Bibliotecas/Filmes/Vistos\\To.Our.Loves.1983.720p.BluRay.x264-ROUGH [PublicHD]\\a.nos.amours.1983.french.720p.bluray.x264-rough.mkv, please manually enter imdbID\n"
       ]
      },
      {
       "name": "stdout",
       "output_type": "stream",
       "stream": "stdout",
       "text": [
        "IMDB id: tt0086650\n"
       ]
      },
      {
       "output_type": "stream",
       "stream": "stdout",
       "text": [
        "To Our Loves \t\u00c0 nos amours. (1983)\n"
       ]
      },
      {
       "name": "stdout",
       "output_type": "stream",
       "stream": "stdout",
       "text": [
        "TPB.AFK.2013.720p.h264-SimonKlose.mkv  is TPB AFK: The Pirate Bay Away from Keyboard (2013) ? \n"
       ]
      },
      {
       "name": "stdout",
       "output_type": "stream",
       "stream": "stdout",
       "text": [
        "Vanilla.Sky.720p.AC3.5.1.x264-DiR.mkv  is Vanilla Sky (2001) ? \n"
       ]
      },
      {
       "name": "stdout",
       "output_type": "stream",
       "stream": "stdout",
       "text": [
        "Whiplash.2014.720p.WEB-DL.AAC2.0.H264-RARBG.mkv  is Whiplash (2014) ? \n"
       ]
      },
      {
       "output_type": "stream",
       "stream": "stdout",
       "text": [
        "Withnail And I \tWithnail & I (1987)\n"
       ]
      },
      {
       "name": "stdout",
       "output_type": "stream",
       "stream": "stdout",
       "text": [
        "Zeitgeist.DVDRip.XviD.avi  is Zeitgeist (2006) ? \n"
       ]
      },
      {
       "output_type": "stream",
       "stream": "stdout",
       "text": [
        "ITA-ENG-FRA \tPersepolis (2007)\n"
       ]
      },
      {
       "name": "stdout",
       "output_type": "stream",
       "stream": "stdout",
       "text": [
        "Band.of.Outsiders.[Bande.a.part].1964.DVDRip.H264.AAC.Gopo.mp4  is Band of Outsiders (1964) ? \n"
       ]
      },
      {
       "name": "stdout",
       "output_type": "stream",
       "stream": "stdout",
       "text": [
        "Before Sunrise.1995.DVDRip.x264-VLiS.mkv  is Before Sunrise (1995) ? \n"
       ]
      },
      {
       "name": "stdout",
       "output_type": "stream",
       "stream": "stdout",
       "text": [
        "beyond.the.black.rainbow.2010.limited.720p.bluray.x264-geckos.mkv  is Beyond the Black Rainbow (2010) ? \n"
       ]
      },
      {
       "name": "stdout",
       "output_type": "stream",
       "stream": "stdout",
       "text": [
        "Boogie.Nights.1997.720p.BluRay.x264.YIFY.mkv  is Boogie Nights (1997) ? \n"
       ]
      },
      {
       "name": "stdout",
       "output_type": "stream",
       "stream": "stdout",
       "text": [
        "Brazil (1985) DC BDRip 720p aac multisub HighCode.mkv  is Brazil (1985) ? \n"
       ]
      },
      {
       "output_type": "stream",
       "stream": "stdout",
       "text": [
        "Crimes Temporais by badaui-UV \tLos cronocr\u00edmenes (2007)\n"
       ]
      },
      {
       "name": "stdout",
       "output_type": "stream",
       "stream": "stdout",
       "text": [
        "Deus.E.O.Diabo.Na.Terra.Do.Sol.CD1.DVDXviD-ARKHE.avi  is Black God, White Devil (1964) ? n\n"
       ]
      },
      {
       "output_type": "stream",
       "stream": "stdout",
       "text": [
        "I couldn't find the data for F:/Backup/Bibliotecas/Filmes/N\u00e3o Vistos\\Deus E O Diabo Na Terra Do Sol (Glauber Rocha, 1964)\\Deus.E.O.Diabo.Na.Terra.Do.Sol.CD1.DVDXviD-ARKHE.avi, please manually enter imdbID\n"
       ]
      },
      {
       "name": "stdout",
       "output_type": "stream",
       "stream": "stdout",
       "text": [
        "IMDB id: tt0058006\n"
       ]
      },
      {
       "output_type": "stream",
       "stream": "stdout",
       "text": [
        "Deus E O Diabo \tDeus e o Diabo na Terra do Sol (1964)\n"
       ]
      },
      {
       "name": "stdout",
       "output_type": "stream",
       "stream": "stdout",
       "text": [
        "Deus.E.O.Diabo.Na.Terra.Do.Sol.CD2.DVDXviD-ARKHE.avi  is Black God, White Devil (1964) ? n\n"
       ]
      },
      {
       "output_type": "stream",
       "stream": "stdout",
       "text": [
        "I couldn't find the data for F:/Backup/Bibliotecas/Filmes/N\u00e3o Vistos\\Deus E O Diabo Na Terra Do Sol (Glauber Rocha, 1964)\\Deus.E.O.Diabo.Na.Terra.Do.Sol.CD2.DVDXviD-ARKHE.avi, please manually enter imdbID\n"
       ]
      },
      {
       "name": "stdout",
       "output_type": "stream",
       "stream": "stdout",
       "text": [
        "IMDB id: tt0058006\n"
       ]
      },
      {
       "output_type": "stream",
       "stream": "stdout",
       "text": [
        "Deus E O Diabo \tDeus e o Diabo na Terra do Sol (1964)\n"
       ]
      },
      {
       "name": "stdout",
       "output_type": "stream",
       "stream": "stdout",
       "text": [
        "Fanny och Alexander 720p DivX AVI HD (moviesbyrizzo).avi  is Fanny and Alexander (1982) ? \n"
       ]
      },
      {
       "name": "stdout",
       "output_type": "stream",
       "stream": "stdout",
       "text": [
        "Freedom Downtime.avi  is Freedom Downtime (2001) ? \n"
       ]
      },
      {
       "output_type": "stream",
       "stream": "stdout",
       "text": [
        "Kevin Mitnick Interview \tFreedom Downtime (2001)\n",
        "Gran Torino"
       ]
      },
      {
       "output_type": "stream",
       "stream": "stdout",
       "text": [
        " \tFreedom Downtime (2001)\n",
        "Gran Torino"
       ]
      },
      {
       "output_type": "stream",
       "stream": "stdout",
       "text": [
        " \tGran Torino (2008)\n"
       ]
      },
      {
       "name": "stdout",
       "output_type": "stream",
       "stream": "stdout",
       "text": [
        "Happiness.avi  is Happiness (1998) ? \n"
       ]
      },
      {
       "name": "stdout",
       "output_type": "stream",
       "stream": "stdout",
       "text": [
        "lap-hrtbs.avi  is Heartbeats (2010) ? \n"
       ]
      },
      {
       "name": "stdout",
       "output_type": "stream",
       "stream": "stdout",
       "text": [
        "Irreversible 2002 DVDRip Xvid fasamoo LKRG.avi  is Irreversible (2002) ? \n"
       ]
      },
      {
       "name": "stdout",
       "output_type": "stream",
       "stream": "stdout",
       "text": [
        "Le d\u00e9clin de l'empire am\u00e9ricain - DVDRIP-Francais.com.avi  is The Decline of the American Empire (1986) ? \n"
       ]
      },
      {
       "name": "stdout",
       "output_type": "stream",
       "stream": "stdout",
       "text": [
        "Les Amours Imaginaires.avi  is Heartbeats (2010) ? \n"
       ]
      },
      {
       "name": "stdout",
       "output_type": "stream",
       "stream": "stdout",
       "text": [
        "mm-masculine.feminine.xvid.avi  is Masculin F\u00e9minin (1966) ? \n"
       ]
      },
      {
       "name": "stdout",
       "output_type": "stream",
       "stream": "stdout",
       "text": [
        "Metropolis (1927).mp4  is Metropolis (1927) ? \n"
       ]
      },
      {
       "name": "stdout",
       "output_type": "stream",
       "stream": "stdout",
       "text": [
        "Metropolis 1927 2010 COMPLETE 720p BRRip x264-BeLLBoY.mp4  is Metropolis (1927) ? \n"
       ]
      },
      {
       "output_type": "stream",
       "stream": "stdout",
       "text": [
        "muito alem do cidadao kane \tBeyond Citizen Kane (1993) (TV)\n"
       ]
      },
      {
       "name": "stdout",
       "output_type": "stream",
       "stream": "stdout",
       "text": [
        "My.Life.As.A.Dog.1985.720p.BluRay.x264-OEM.mkv  is My Life as a Dog (1985) ? \n"
       ]
      },
      {
       "name": "stdout",
       "output_type": "stream",
       "stream": "stdout",
       "text": [
        "Perfume.The.Story.Of.A.Murderer.2006.720p.x264.YIFY.mkv  is Perfume: The Story of a Murderer (2006) ? \n"
       ]
      },
      {
       "name": "stdout",
       "output_type": "stream",
       "stream": "stdout",
       "text": [
        "Roger_And_Me_(1989).avi  is Roger & Me (1989) ? \n"
       ]
      },
      {
       "name": "stdout",
       "output_type": "stream",
       "stream": "stdout",
       "text": [
        "Schindlers.List.1993.720p.BRRip.x264.DTS-anoXmous.mkv  is Schindler's List (1993) ? \n"
       ]
      },
      {
       "name": "stdout",
       "output_type": "stream",
       "stream": "stdout",
       "text": [
        "Solaris.1972.720p.BluRay.x264-CiNEFiLE.mkv  is Solaris (1972) ? \n"
       ]
      },
      {
       "name": "stdout",
       "output_type": "stream",
       "stream": "stdout",
       "text": [
        "Spartacus.1960.720p.BluRay.x264-EbP.mkv  is Spartacus (1960) ? \n"
       ]
      },
      {
       "name": "stdout",
       "output_type": "stream",
       "stream": "stdout",
       "text": [
        "The City of Lost Children [1995] 720p.mkv  is The City of Lost Children (1995) ? \n"
       ]
      },
      {
       "name": "stdout",
       "output_type": "stream",
       "stream": "stdout",
       "text": [
        "The.Tree.Of.Life.2011.720p.BRRip.x264.AAC-ViSiON.mp4  is The Tree of Life (2011) ? \n"
       ]
      },
      {
       "name": "stdout",
       "output_type": "stream",
       "stream": "stdout",
       "text": [
        "Un Homme qui dort (Georges Perec, 1974) .avi  is The Man Who Sleeps (1974) ? \n"
       ]
      },
      {
       "name": "stdout",
       "output_type": "stream",
       "stream": "stdout",
       "text": [
        "Vozvrashchenie [The Return] [2003] DvDRip XviD AC3 - CODY.avi  is Vozvrashchenie v 'A' (2011) ? n\n"
       ]
      },
      {
       "output_type": "stream",
       "stream": "stdout",
       "text": [
        "I couldn't find the data for F:/Backup/Bibliotecas/Filmes/N\u00e3o Vistos\\Vozvrashchenie [The Return] [2003] DvDRip XviD AC3 - CODY\\Vozvrashchenie [The Return] [2003] DvDRip XviD AC3 - CODY.avi, please manually enter imdbID\n"
       ]
      },
      {
       "name": "stdout",
       "output_type": "stream",
       "stream": "stdout",
       "text": [
        "IMDB id: tt0376968\n"
       ]
      },
      {
       "output_type": "stream",
       "stream": "stdout",
       "text": [
        "Vozvrashchenie \tVozvrashchenie (2003)\n"
       ]
      }
     ],
     "prompt_number": 128
    },
    {
     "cell_type": "code",
     "collapsed": false,
     "input": [
      "used = []"
     ],
     "language": "python",
     "metadata": {},
     "outputs": [],
     "prompt_number": 61
    },
    {
     "cell_type": "code",
     "collapsed": false,
     "input": [
      "print u_agree_db"
     ],
     "language": "python",
     "metadata": {},
     "outputs": [
      {
       "output_type": "stream",
       "stream": "stdout",
       "text": [
        "{u'Tuesday.After.Christmas.2010.720p.WEB-DL.H264-WEBiOS.mkv': True, u\"Godard - 2 Ou 3 Choses Que Je Sais D'elle (1967)CD1.avi\": True, u'The.Fountain.2006.1080p.BluRay.x264.anoXmous_.mp4': True, u'Bad.Education.2004.720p.BluRay.x264-PHOBOS.mkv': True, u'Alice [Neco z Alenky] (1988).mp4': True, u\"Godard - 2 Ou 3 Choses Que Je Sais D'elle (1967)CD2.avi\": True, u'21.Grams.2003.Bluray.UK.720p.DTS.x264-CHD.mkv': True, u'Beginners.720p.BrRip.x264.YIFY.mp4': False, u'Beasts.of.the.Southern.Wild.2012.720p.BRRip.x264.AC3-JYK.mkv': True, u'Eight.And.A.Half.1963.720p.BluRay.x264-DiMENSiON [PublicHD].mkv': True, u'Argo.2012.720p.BluRay.x264.YIFY.mp4': False, u'Kid-Thing.2012.720p.WEB-DL.X264-WEBiOS.mkv': True, u'Amarcord (1973).mkv': True, u'A Clockwork Orange[1971]DvDrip[Eng]-FXG.avi': True, u'Local Hero.avi': True, u'2 Coelhos (2012) 720p BRrip_sujaidr.mkv': True, u'Frank 2014 1080p BRRip x264 AC3-JYK.mkv': True, u'La.Dolce.Vita.1960.720p.BluRay.AC3.x264-vHD.mkv': True, u'tabu.2012.720p.bluray.dd5.1.x264-publichd.mkv': True, u'Four.Lions.2010.LIMITED.720p.BRRiP.x264.AAC(5.1).mkv-Zen_Bud.mkv': True, u'24hr.Party.People.DVD.RIP.avi': True, u'500.Days.of.Summer.2009.720p.BluRay.DTS.x264-WiKi.mkv': True, u'American Psycho 2000 720p BRRip.mp4': True, u'Across the Universe[2007]DvDrip[Eng]-FXG.avi': True, u'Beirut.avi': False, u'Annie Hall 1977 720p HDTV DD2.0 x264-MX.mkv': True, u'The.Lego.Movie.2014.1080p.BluRay.x264.YIFY.mp4': True, u'2001.A.Space.Odyssey.avi': True, u'12 Years A Slave 2013 1080p BRRip x264 AC3-JYK.mkv': True, u\"La leggenda del pianista sull'oceano - The Legend of 1900 [BDRip-720p-Ita-Eng-Sub-Ita-Eng-Chapters][RiP By MaX].mkv\": True, u'Blue.Valentine.2010.1080p.BluRay.x264.YIFY.mp4': True, u'timky-blackswan-dvdscr.avi': False, u'alli-education-720p.mkv': True, u'wira-aitokyo.avi': True}\n"
       ]
      }
     ],
     "prompt_number": 127
    },
    {
     "cell_type": "code",
     "collapsed": false,
     "input": [
      "print swipe"
     ],
     "language": "python",
     "metadata": {},
     "outputs": [
      {
       "output_type": "stream",
       "stream": "stdout",
       "text": [
        "[66, 148]\n"
       ]
      }
     ],
     "prompt_number": 129
    },
    {
     "cell_type": "code",
     "collapsed": false,
     "input": [
      "print u_agree_db[\"Gran.Torino.2009.DvDRip.GELEIA_XXX_UV.avi\"]"
     ],
     "language": "python",
     "metadata": {},
     "outputs": [
      {
       "ename": "KeyError",
       "evalue": "'Gran.Torino.2009.DvDRip.GELEIA_XXX_UV.avi'",
       "output_type": "pyerr",
       "traceback": [
        "\u001b[1;31m---------------------------------------------------------------------------\u001b[0m\n\u001b[1;31mKeyError\u001b[0m                                  Traceback (most recent call last)",
        "\u001b[1;32m<ipython-input-134-a7ffebfc7f30>\u001b[0m in \u001b[0;36m<module>\u001b[1;34m()\u001b[0m\n\u001b[1;32m----> 1\u001b[1;33m \u001b[1;32mprint\u001b[0m \u001b[0mu_agree_db\u001b[0m\u001b[1;33m[\u001b[0m\u001b[1;34m\"Gran.Torino.2009.DvDRip.GELEIA_XXX_UV.avi\"\u001b[0m\u001b[1;33m]\u001b[0m\u001b[1;33m\u001b[0m\u001b[0m\n\u001b[0m",
        "\u001b[1;31mKeyError\u001b[0m: 'Gran.Torino.2009.DvDRip.GELEIA_XXX_UV.avi'"
       ]
      }
     ],
     "prompt_number": 134
    },
    {
     "cell_type": "code",
     "collapsed": false,
     "input": [
      "for f in manual_id:\n",
      "    print f\n",
      "    print u\"http://www.imdb.com/title/tt{}\".format(manual_id[f])"
     ],
     "language": "python",
     "metadata": {},
     "outputs": [
      {
       "output_type": "stream",
       "stream": "stdout",
       "text": [
        "F:/Backup/Bibliotecas/Filmes/Vistos\\[BluRay Rip 720p - ITA-ENG-FRA AC3-SUB] Persepolis LiFE [m@rcomem]\\[BluRay Rip 720p - ITA-ENG-FRA AC3-SUB] Persepolis LiFE [m@rcomem].mkv\n",
        "http://www.imdb.com/title/tt0808417\n",
        "F:/Backup/Bibliotecas/Filmes/N\u00e3o Vistos\\Deus E O Diabo Na Terra Do Sol (Glauber Rocha, 1964)\\Deus.E.O.Diabo.Na.Terra.Do.Sol.CD2.DVDXviD-ARKHE.avi\n",
        "http://www.imdb.com/title/tt0058006\n",
        "F:/Backup/Bibliotecas/Filmes/N\u00e3o Vistos\\Vozvrashchenie [The Return] [2003] DvDRip XviD AC3 - CODY\\Vozvrashchenie [The Return] [2003] DvDRip XviD AC3 - CODY.avi\n",
        "http://www.imdb.com/title/tt0376968\n",
        "F:/Backup/Bibliotecas/Filmes/Vistos\\BeirutCMI-1\\Beirut.avi\n",
        "http://www.imdb.com/title/tt4272988\n",
        "F:/Backup/Bibliotecas/Filmes/Vistos\\Como Esquecer\\Como Esquecer.avi\n",
        "http://www.imdb.com/title/tt1735853\n",
        "F:/Backup/Bibliotecas/Filmes/Vistos\\Le Fabuleux Destin d'Amelie Poulain - Amelie\\Le Fabuleux Destin d'Amelie Poulain - Amelie.avi\n",
        "http://www.imdb.com/title/tt0211915\n",
        "F:/Backup/Bibliotecas/Filmes/Vistos\\To.Our.Loves.1983.720p.BluRay.x264-ROUGH [PublicHD]\\a.nos.amours.1983.french.720p.bluray.x264-rough.mkv\n",
        "http://www.imdb.com/title/tt0086650\n",
        "F:/Backup/Bibliotecas/Filmes/Vistos\\Argo (2012)\\Argo.2012.720p.BluRay.x264.YIFY.mp4\n",
        "http://www.imdb.com/title/tt1024648\n",
        "F:/Backup/Bibliotecas/Filmes/Vistos\\Beginners (2011)\\Beginners.720p.BrRip.x264.YIFY.mp4\n",
        "http://www.imdb.com/title/tt1532503\n",
        "F:/Backup/Bibliotecas/Filmes/Vistos\\The Corporation Filmmakers Official Download Edition - DIVX\\TheCorporation-Movie-Part2.avi\n",
        "http://www.imdb.com/title/tt0379225\n",
        "F:/Backup/Bibliotecas/Filmes/Vistos\\Gravity.2013.1080p.WEB-DL.H264-PublicHD\\Gravity.2013.1080p.WEB-DL.H264-PublicHD.mkv\n",
        "http://www.imdb.com/title/tt1454468\n",
        "F:/Backup/Bibliotecas/Filmes/Vistos\\Love.[Amour].2012.BRRip.AC3.HORiZON\\Love.[Amour].2012.BRRip.AC3.HORiZON.avi\n",
        "http://www.imdb.com/title/tt1602620\n",
        "F:/Backup/Bibliotecas/Filmes/Vistos\\Chinatown.Roman.Polanski.1974.720p.Xvid.Ac3.2.0.HDTV.Jatin17\\Chinatown.avi\n",
        "http://www.imdb.com/title/tt0071315\n",
        "F:/Backup/Bibliotecas/Filmes/N\u00e3o Vistos\\Crimes Temporais.by.badaui-UV\\Crimes Temporais.by.badaui-UV.avi\n",
        "http://www.imdb.com/title/tt0480669\n",
        "F:/Backup/Bibliotecas/Filmes/Vistos\\O.Cheiro.do.Ralo.DVDRip.XviD-pedr1nho\\O.Cheiro.do.Ralo.DVDRip.XviD-pedr1nho.avi\n",
        "http://www.imdb.com/title/tt0489458\n",
        "F:/Backup/Bibliotecas/Filmes/N\u00e3o Vistos\\Deus E O Diabo Na Terra Do Sol (Glauber Rocha, 1964)\\Deus.E.O.Diabo.Na.Terra.Do.Sol.CD1.DVDXviD-ARKHE.avi\n",
        "http://www.imdb.com/title/tt0058006\n",
        "F:/Backup/Bibliotecas/Filmes/N\u00e3o Vistos\\Gran.Torino.2009.DvDRip.GELEIA_XXX_UV\\Gran.Torino.2009.DvDRip.GELEIA_XXX_UV.avi\n",
        "http://www.imdb.com/title/tt0309614\n",
        "F:/Backup/Bibliotecas/Filmes/N\u00e3o Vistos\\Gran.Torino.2009.DvDRip.GELEIA_XXX_UV\\Gran.Torino.avi\n",
        "http://www.imdb.com/title/tt1205489\n",
        "F:/Backup/Bibliotecas/Filmes/Vistos\\La Grande Vadrouille 720p x264 FRENCH\\La Grande Vadrouille 720p x264 FRENCH.mp4\n",
        "http://www.imdb.com/title/tt0060474\n",
        "F:/Backup/Bibliotecas/Filmes/N\u00e3o Vistos\\FREEDOM_DOWNTIME\\Kevin Mitnick Interview.avi\n",
        "http://www.imdb.com/title/tt0309614\n",
        "F:/Backup/Bibliotecas/Filmes/Vistos\\Casablanca\\yve-casablanca.1942.720p.x264.mkv\n",
        "http://www.imdb.com/title/tt0034583\n",
        "F:/Backup/Bibliotecas/Filmes/Vistos\\Pan's.Labyrinth.2006.720p.BluRay.DTS.x264-FiNE\\Pan's.Labyrinth.2006.720p.BluRay.DTS.x264-FiNE.mkv\n",
        "http://www.imdb.com/title/tt0457430\n",
        "F:/Backup/Bibliotecas/Filmes/N\u00e3o Vistos\\muito_alem_do_cidadao_kane\\muito_alem_do_cidadao_kane.avi\n",
        "http://www.imdb.com/title/tt1356393\n",
        "F:/Backup/Bibliotecas/Filmes/Vistos\\O.Som.ao.Redor.2012.720p.WEB-DL.x264-BiG\\O.Som.ao.Redor.2012.720p.WEB-DL.x264-BiG.mkv\n",
        "http://www.imdb.com/title/tt2190367\n",
        "F:/Backup/Bibliotecas/Filmes/Vistos\\Control.2007.LiMiTED.720p.BluRay.x264-HANGOVER\\Control.2007.LiMiTED.720p.BluRay.x264-HANGOVER.mkv\n",
        "http://www.imdb.com/title/tt0421082\n",
        "F:/Backup/Bibliotecas/Filmes/Vistos\\Moon[2009]DvDrip[Eng]-FXG\\Moon[2009]DvDrip[Eng]-FXG.avi\n",
        "http://www.imdb.com/title/tt1182345\n",
        "F:/Backup/Bibliotecas/Filmes/Vistos\\The Corporation Filmmakers Official Download Edition - DIVX\\TheCorporation-Movie-Part1.avi\n",
        "http://www.imdb.com/title/tt0379225\n",
        "F:/Backup/Bibliotecas/Filmes/Vistos\\Source Code 2011 BRRip 720p H264-3Li\\Source Code.mp4\n",
        "http://www.imdb.com/title/tt0945513\n",
        "F:/Backup/Bibliotecas/Filmes/Vistos\\F4rg0 (BDrip 1080p ENG-ITA-FRA-JPN-SPA) Multisub x264 bluray (1996)\\F4rg0 (BDrip 1080p ENG-ITA-FRA-JPN-SPA) Multisub x264 bluray (1996).mkv\n",
        "http://www.imdb.com/title/tt0116282\n",
        "F:/Backup/Bibliotecas/Filmes/Vistos\\Black.Swan.2010.DVDSCR.XviD-TiMKY [NO-RAR] - [ www.torrentday.com ]\\timky-blackswan-dvdscr.avi\n",
        "http://www.imdb.com/title/tt0947798\n",
        "F:/Backup/Bibliotecas/Filmes/Vistos\\L.Auberge.Espagnole.2002.FRENCH.720p.BluRay.x264-FHD\\fhd-auberge720p.mkv\n",
        "http://www.imdb.com/title/tt0283900\n",
        "F:/Backup/Bibliotecas/Filmes/Vistos\\Withnail And I (1986)\\Withnail And I (1986).avi\n",
        "http://www.imdb.com/title/tt0094336\n",
        "F:/Backup/Bibliotecas/Filmes/Vistos\\PBS.POV.The City Dark.480p.HDTV.x264-KarMa\\PBS.POV.The City Dark.480p.HDTV.x264-KarMa.mp4\n",
        "http://www.imdb.com/title/tt1863406\n",
        "F:/Backup/Bibliotecas/Filmes/Vistos\\Coracoes Sujos\\Coracoes.Sujos.2013.720p.bluray.ac3.x264-lozano.mkv\n",
        "http://www.imdb.com/title/tt1653653\n",
        "F:/Backup/Bibliotecas/Filmes/Vistos\\Donnie Darko Dir Cut (2001)\\Donnie Darko Dir Cut (2001) m720p.mkv\n",
        "http://www.imdb.com/title/tt0246578\n",
        "F:/Backup/Bibliotecas/Filmes/Vistos\\The Black Swan [2010]\\Black.Swan[2010]DvDRip[Eng]-PiRaTeS.avi\n",
        "http://www.imdb.com/title/tt0947798\n",
        "F:/Backup/Bibliotecas/Filmes/Vistos\\Creation\\[www.telona.org-by-B4rm4n]Creation.DVDRip.Leg.avi\n",
        "http://www.imdb.com/title/tt0974014\n",
        "F:/Backup/Bibliotecas/Filmes/Vistos\\Perfect Blue (1997) 1080p [Jpn 5.1 & Eng 5.1] Blu-ray\\Perfect Blue (1997) 1080p [Jpn 5.1 & Eng 5.1] Blu-ray.mp4\n",
        "http://www.imdb.com/title/tt0156887\n"
       ]
      }
     ],
     "prompt_number": 136
    },
    {
     "cell_type": "code",
     "collapsed": false,
     "input": [
      "manual_id[\"F:/Backup/Bibliotecas/Filmes/N\u00e3o Vistos\\Gran.Torino.2009.DvDRip.GELEIA_XXX_UV\\Gran.Torino.2009.DvDRip.GELEIA_XXX_UV.avi\"] = \"1205489\""
     ],
     "language": "python",
     "metadata": {},
     "outputs": [],
     "prompt_number": 137
    },
    {
     "cell_type": "code",
     "collapsed": false,
     "input": [],
     "language": "python",
     "metadata": {},
     "outputs": []
    }
   ],
   "metadata": {}
  }
 ]
}