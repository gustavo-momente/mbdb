{
 "metadata": {
  "name": "",
  "signature": "sha256:a4c181f694df82264c31cf7171ec7f4bccb3fbff67dd4dc4ede7819393b40b6c"
 },
 "nbformat": 3,
 "nbformat_minor": 0,
 "worksheets": [
  {
   "cells": [
    {
     "cell_type": "code",
     "collapsed": false,
     "input": [
      "#! python\n",
      "# -*- coding: latin-1 -*-\n",
      "import os\n",
      "from guessit import guess_file_info\n",
      "import codecs"
     ],
     "language": "python",
     "metadata": {},
     "outputs": [],
     "prompt_number": 48
    },
    {
     "cell_type": "code",
     "collapsed": false,
     "input": [
      "def get_files(folder, checked_files=[], file_types=[\".mp4\", \".mkv\"]):\n",
      "    files = []\n",
      "    for root, dirs, _files in os.walk(folder):\n",
      "        for name in _files:\n",
      "            if os.path.join(root, name) not in checked_files:\n",
      "                for ftype in file_types:\n",
      "                    if name.endswith(ftype):\n",
      "                        files.append(name)\n",
      "                        break\n",
      "    \n",
      "    return files"
     ],
     "language": "python",
     "metadata": {},
     "outputs": [],
     "prompt_number": 26
    },
    {
     "cell_type": "code",
     "collapsed": false,
     "input": [
      "folder = r\"C:\\Users\\Usuario\\Downloads\\Filmes\""
     ],
     "language": "python",
     "metadata": {},
     "outputs": [],
     "prompt_number": 27
    },
    {
     "cell_type": "code",
     "collapsed": false,
     "input": [
      "oi = get_files(folder)"
     ],
     "language": "python",
     "metadata": {},
     "outputs": [],
     "prompt_number": 28
    },
    {
     "cell_type": "code",
     "collapsed": false,
     "input": [
      "for x in oi :\n",
      "    print x"
     ],
     "language": "python",
     "metadata": {},
     "outputs": [
      {
       "output_type": "stream",
       "stream": "stdout",
       "text": [
        "Eight.And.A.Half.1963.720p.BluRay.x264-DiMENSiON [PublicHD].mkv\n",
        "Four.Lions.2010.LIMITED.720p.BRRiP.x264.AAC(5.1).mkv-Zen_Bud.mkv\n",
        "Frank 2014 1080p BRRip x264 AC3-JYK.mkv\n",
        "Kid-Thing.2012.720p.WEB-DL.X264-WEBiOS.mkv\n",
        "La.Dolce.Vita.1960.720p.BluRay.AC3.x264-vHD.mkv\n",
        "tabu.2012.720p.bluray.dd5.1.x264-publichd.mkv\n",
        "La leggenda del pianista sull'oceano - The Legend of 1900 [BDRip-720p-Ita-Eng-Sub-Ita-Eng-Chapters][RiP By MaX].mkv\n",
        "The.Fountain.2006.1080p.BluRay.x264.anoXmous_.mp4\n",
        "The.Lego.Movie.2014.1080p.BluRay.x264.YIFY.mp4\n",
        "Tuesday.After.Christmas.2010.720p.WEB-DL.H264-WEBiOS.mkv\n"
       ]
      }
     ],
     "prompt_number": 29
    },
    {
     "cell_type": "code",
     "collapsed": false,
     "input": [
      "jdata = []\n",
      "data_keys = ['container', 'screenSize', 'format', 'releaseGroup']\n",
      "json_keys = {'container' : \"fileType\", 'screenSize' : \"resolution\", 'format' : \"format\", 'releaseGroup' : \"releaseGroup\"}\n",
      "for x in oi:\n",
      "    tmp = guess_file_info(x)\n",
      "    tdic = {}\n",
      "    title = tmp['title']\n",
      "    tdic['movie'] = title\n",
      "#     tdic[json_keys['filename']] = x\n",
      "    for key in data_keys:\n",
      "        try:\n",
      "            tdic[json_keys[key]] = tmp[key]\n",
      "        except KeyError:\n",
      "            tdic[json_keys[key]] = \"\"\n",
      "    jdata.append(tdic)"
     ],
     "language": "python",
     "metadata": {},
     "outputs": [],
     "prompt_number": 71
    },
    {
     "cell_type": "code",
     "collapsed": false,
     "input": [
      "import json"
     ],
     "language": "python",
     "metadata": {},
     "outputs": [],
     "prompt_number": 72
    },
    {
     "cell_type": "code",
     "collapsed": false,
     "input": [
      "aa = json.dumps(jdata, sort_keys = True, indent = 4, ensure_ascii=False)\n",
      "json.dump(jdata, codecs.open('mov_html/json_data/mvdata.json', 'w', 'utf-8'), sort_keys = True, indent = 4, ensure_ascii=False)\n"
     ],
     "language": "python",
     "metadata": {},
     "outputs": [],
     "prompt_number": 73
    },
    {
     "cell_type": "code",
     "collapsed": false,
     "input": [
      "print aa"
     ],
     "language": "python",
     "metadata": {},
     "outputs": [
      {
       "output_type": "stream",
       "stream": "stdout",
       "text": [
        "[\n",
        "    {\n",
        "        \"fileType\": \"mkv\", \n",
        "        \"format\": \"BluRay\", \n",
        "        \"movie\": \"Eight And A Half\", \n",
        "        \"releaseGroup\": \"DiMENSiON[PublicHD]\", \n",
        "        \"resolution\": \"720p\"\n",
        "    }, \n",
        "    {\n",
        "        \"fileType\": \"mkv\", \n",
        "        \"format\": \"BluRay\", \n",
        "        \"movie\": \"Four Lions\", \n",
        "        \"releaseGroup\": \"\", \n",
        "        \"resolution\": \"720p\"\n",
        "    }, \n",
        "    {\n",
        "        \"fileType\": \"mkv\", \n",
        "        \"format\": \"BluRay\", \n",
        "        \"movie\": \"Frank\", \n",
        "        \"releaseGroup\": \"JYK\", \n",
        "        \"resolution\": \"1080p\"\n",
        "    }, \n",
        "    {\n",
        "        \"fileType\": \"mkv\", \n",
        "        \"format\": \"WEB-DL\", \n",
        "        \"movie\": \"Kid-Thing\", \n",
        "        \"releaseGroup\": \"WEBiOS\", \n",
        "        \"resolution\": \"720p\"\n",
        "    }, \n",
        "    {\n",
        "        \"fileType\": \"mkv\", \n",
        "        \"format\": \"BluRay\", \n",
        "        \"movie\": \"La Dolce Vita\", \n",
        "        \"releaseGroup\": \"vHD\", \n",
        "        \"resolution\": \"720p\"\n",
        "    }, \n",
        "    {\n",
        "        \"fileType\": \"mkv\", \n",
        "        \"format\": \"BluRay\", \n",
        "        \"movie\": \"tabu\", \n",
        "        \"releaseGroup\": \"publichd\", \n",
        "        \"resolution\": \"720p\"\n",
        "    }, \n",
        "    {\n",
        "        \"fileType\": \"mkv\", \n",
        "        \"format\": \"BluRay\", \n",
        "        \"movie\": \"La leggenda del pianista sull'oceano\", \n",
        "        \"releaseGroup\": \"\", \n",
        "        \"resolution\": \"720p\"\n",
        "    }, \n",
        "    {\n",
        "        \"fileType\": \"mp4\", \n",
        "        \"format\": \"BluRay\", \n",
        "        \"movie\": \"The Fountain\", \n",
        "        \"releaseGroup\": \"anoXmous\", \n",
        "        \"resolution\": \"1080p\"\n",
        "    }, \n",
        "    {\n",
        "        \"fileType\": \"mp4\", \n",
        "        \"format\": \"BluRay\", \n",
        "        \"movie\": \"The Lego Movie\", \n",
        "        \"releaseGroup\": \"YIFY\", \n",
        "        \"resolution\": \"1080p\"\n",
        "    }, \n",
        "    {\n",
        "        \"fileType\": \"mkv\", \n",
        "        \"format\": \"WEB-DL\", \n",
        "        \"movie\": \"Tuesday After Christmas\", \n",
        "        \"releaseGroup\": \"WEBiOS\", \n",
        "        \"resolution\": \"720p\"\n",
        "    }\n",
        "]\n"
       ]
      }
     ],
     "prompt_number": 74
    },
    {
     "cell_type": "code",
     "collapsed": false,
     "input": [],
     "language": "python",
     "metadata": {},
     "outputs": []
    }
   ],
   "metadata": {}
  }
 ]
}