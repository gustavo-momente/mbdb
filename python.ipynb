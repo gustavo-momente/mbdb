{
 "metadata": {
  "name": "",
  "signature": "sha256:68f1a05fed493f50fd9ee5e71e320ca200e76964cc39c445f1f78d9c81919c0d"
 },
 "nbformat": 3,
 "nbformat_minor": 0,
 "worksheets": [
  {
   "cells": [
    {
     "cell_type": "code",
     "collapsed": false,
     "input": [
      "#! python\n",
      "# -*- coding: latin-1 -*-\n",
      "import os\n",
      "from guessit import guess_file_info\n",
      "import codecs\n",
      "from datetime import datetime\n",
      "import enzyme\n",
      "import json\n",
      "import re\n",
      "import math\n",
      "from ffprobe import FFProbe\n",
      "from avMetadataInfo import mediaObject"
     ],
     "language": "python",
     "metadata": {},
     "outputs": [],
     "prompt_number": 11
    },
    {
     "cell_type": "code",
     "collapsed": false,
     "input": [
      "def convertSize(size):\n",
      "    s = round(float(size)/long(1073741824), 2)\n",
      "    return '%s %s' % (s,\"GB\")\n",
      "#    size_name = (\"B\", \"KB\", \"MB\", \"GB\", \"TB\", \"PB\", \"EB\", \"ZB\", \"YB\")\n",
      "#    i = int(math.floor(math.log(size,1024)))\n",
      "#    p = math.pow(1024,i)\n",
      "#    s = round(size/p,2)\n",
      "#    if (s > 0):\n",
      "#        return '%s %s' % (s,size_name[i])\n",
      "#    else:\n",
      "#        return '0B'"
     ],
     "language": "python",
     "metadata": {},
     "outputs": [],
     "prompt_number": 3
    },
    {
     "cell_type": "code",
     "collapsed": false,
     "input": [
      "def sec2hours(seconds):\n",
      "    m, s = divmod(seconds, 60)\n",
      "    h, m = divmod(m, 60)\n",
      "    return \"%02d:%02d:%02d\" % (h, m, s)"
     ],
     "language": "python",
     "metadata": {},
     "outputs": [],
     "prompt_number": 4
    },
    {
     "cell_type": "code",
     "collapsed": false,
     "input": [
      "def get_files(folder, checked_files=[], file_types=[\".mp4\", \".mkv\"], min_size=long(100000000)):\n",
      "    files = []\n",
      "    for root, dirs, _files in os.walk(folder):\n",
      "        for name in _files:\n",
      "            if os.path.join(root, name) not in checked_files:\n",
      "                for ftype in file_types:\n",
      "                    if name.endswith(ftype):\n",
      "                        fsize = os.path.getsize(os.path.join(root, name))\n",
      "                        if fsize > min_size:\n",
      "                            files.append((name, convertSize(fsize), os.path.join(root, name)))\n",
      "                        break\n",
      "    \n",
      "    return files"
     ],
     "language": "python",
     "metadata": {},
     "outputs": [],
     "prompt_number": 5
    },
    {
     "cell_type": "code",
     "collapsed": false,
     "input": [
      "def get_data(files):\n",
      "    prog = re.compile('sample', flags=re.IGNORECASE)\n",
      "    jdata = []\n",
      "    data_keys = ['container', 'screenSize', 'format', 'releaseGroup']\n",
      "    json_keys = {'container' : \"fileType\", 'screenSize' : \"resolution\", 'format' : \"format\", 'releaseGroup' : \"releaseGroup\"}\n",
      "    for pair in files:\n",
      "        x = pair[0]\n",
      "        tmp = guess_file_info(x, type='movie')\n",
      "        tdic = {}\n",
      "        try:\n",
      "            title = tmp['title']\n",
      "        except KeyError as e:\n",
      "            print x\n",
      "            print tmp.nice_string()\n",
      "        try:\n",
      "            rg = tmp['releaseGroup']\n",
      "            aws = prog.search(rg)\n",
      "            if aws:\n",
      "                continue\n",
      "        except KeyError:\n",
      "            pass\n",
      "\n",
      "        tdic['movie'] = title\n",
      "        tdic['fileName'] = x\n",
      "        tdic['fileSize'] = pair[1]\n",
      "        for key in data_keys:\n",
      "            try:\n",
      "                tdic[json_keys[key]] = tmp[key]\n",
      "            except KeyError:\n",
      "                tdic[json_keys[key]] = \"\"\n",
      "        \n",
      "\n",
      "        metadata = mediaObject(pair[2])\n",
      "        if metadata.getVideoCodec() is None:\n",
      "            continue\n",
      "        tlenght = time.strptime(metadata.getTotalRunningTimeRaw()[:-3], \"%H:%M:%S\")\n",
      "        \n",
      "        \n",
      "        try:\n",
      "            tdic['bitrateKbps'] = metadata.getVideoBitRate()/1000\n",
      "        except ValueError:\n",
      "            tdic['bitrateKbps'] = 8*metadata.getFileSize()/(1000 * (tlenght.tm_hour * 3600 + tlenght.tm_min *60 + tlenght.tm_sec))\n",
      "        \n",
      "        tdic['height'] = metadata.getVideoResolutionHeight()\n",
      "        tdic['width'] = metadata.getVideoResolutionWidth()\n",
      "        tdic['runtime'] = tlenght.tm_hour * 60 + tlenght.tm_min + math.trunc(float(tlenght.tm_sec)/60)       \n",
      "        \n",
      "        jdata.append(tdic)\n",
      "    return jdata"
     ],
     "language": "python",
     "metadata": {},
     "outputs": [],
     "prompt_number": 34
    },
    {
     "cell_type": "code",
     "collapsed": false,
     "input": [
      "folder = r\"C:\\Users\\Usuario\\Downloads\\Filmes\"\n",
      "files = get_files(folder) + get_files(r\"F:\\Backup\\Bibliotecas\\Filmes\\Vistos\") \n",
      "jdata = get_data(files)"
     ],
     "language": "python",
     "metadata": {},
     "outputs": [],
     "prompt_number": 35
    },
    {
     "cell_type": "code",
     "collapsed": false,
     "input": [
      "aa = json.dumps(jdata, sort_keys = True, indent = 4, ensure_ascii=False)\n",
      "json.dump(jdata, codecs.open('mov_html/json_data/mvdata.json', 'w', 'utf-8'), sort_keys = True, indent = 4, ensure_ascii=False)"
     ],
     "language": "python",
     "metadata": {},
     "outputs": [],
     "prompt_number": 36
    },
    {
     "cell_type": "code",
     "collapsed": false,
     "input": [
      "metadata=FFProbe(r\"F:\\Backup\\Bibliotecas\\Filmes\\Vistos\\The Machinist 2004 BRRip H264 AAC-GreatMagician\\The Machinist.mp4\")"
     ],
     "language": "python",
     "metadata": {},
     "outputs": [],
     "prompt_number": 5
    },
    {
     "cell_type": "code",
     "collapsed": false,
     "input": [
      "folder = r\"C:\\Users\\Usuario\\Downloads\\Filmes\"\n",
      "files = get_files(folder) #+ get_files(r\"F:\\Backup\\Bibliotecas\\Filmes\\Vistos\") "
     ],
     "language": "python",
     "metadata": {},
     "outputs": [],
     "prompt_number": 6
    },
    {
     "cell_type": "code",
     "collapsed": false,
     "input": [
      "for file in files:\n",
      "    metadata = mediaObject(file[2])\n",
      "    if metadata.getVideoCodec() is None:\n",
      "        continue\n",
      "    print \"\\n\",file[0]\n",
      "    tlenght = time.strptime(metadata.getTotalRunningTimeRaw()[:-3], \"%H:%M:%S\")\n",
      "    print tlenght.tm_hour * 3600 + tlenght.tm_min *60 + tlenght.tm_sec, \"sec\"\n",
      "    print  metadata.getFileSize()\n",
      "    tlenght.tm_hour * 60 + tlenght.tm_min + math.trunc(float(tlenght.tm_sec)/60)\n",
      "    try:\n",
      "        print metadata.getVideoBitRate()/1000 , 8*metadata.getFileSize()/(1000 * (tlenght.tm_hour * 3600 + tlenght.tm_min *60 + tlenght.tm_sec))\n",
      "    except ValueError:\n",
      "        print \"FAIL\", 8*metadata.getFileSize()/(1000 * (tlenght.tm_hour * 3600 + tlenght.tm_min *60 + tlenght.tm_sec))\n",
      "        \n",
      "    \n",
      "    print tlenght.tm_hour * 60 + tlenght.tm_min + math.trunc(float(tlenght.tm_sec)/60)\n",
      "    print metadata.getVideoResolutionHeight(), metadata.getVideoResolutionWidth()\n",
      "    print metadata.getTotalRunningTimeRaw()"
     ],
     "language": "python",
     "metadata": {},
     "outputs": [
      {
       "output_type": "stream",
       "stream": "stdout",
       "text": [
        "\n",
        "Eight.And.A.Half.1963.720p.BluRay.x264-DiMENSiON [PublicHD].mkv\n",
        "8344 sec\n",
        "8533227611\n",
        "FAIL 8181\n",
        "139\n",
        "688 1280\n",
        "02:19:04.77\n",
        "\n",
        "Four.Lions.2010.LIMITED.720p.BRRiP.x264.AAC(5.1).mkv-Zen_Bud.mkv\n",
        "5837 sec\n",
        "1459137172\n",
        "FAIL 1999\n",
        "97\n",
        "688 1280\n",
        "01:37:17.10\n",
        "\n"
       ]
      },
      {
       "output_type": "stream",
       "stream": "stdout",
       "text": [
        "Frank 2014 1080p BRRip x264 AC3-JYK.mkv\n",
        "5705 sec\n",
        "2994454556\n",
        "FAIL 4199\n",
        "95\n",
        "816 1920\n",
        "01:35:05.76\n",
        "\n",
        "Kid-Thing.2012.720p.WEB-DL.X264-WEBiOS.mkv\n",
        "4941 sec\n",
        "1876057175\n",
        "FAIL 3037\n",
        "82\n",
        "720 1280\n",
        "01:22:21.33\n",
        "\n"
       ]
      },
      {
       "output_type": "stream",
       "stream": "stdout",
       "text": [
        "La.Dolce.Vita.1960.720p.BluRay.AC3.x264-vHD.mkv\n",
        "10547 sec\n",
        "4650694637\n",
        "FAIL 3527\n",
        "175\n",
        "544 1280\n",
        "02:55:47.29\n",
        "\n",
        "tabu.2012.720p.bluray.dd5.1.x264-publichd.mkv\n",
        "7083 sec\n",
        "4686805472\n",
        "FAIL 5293\n",
        "118\n",
        "720 960\n",
        "01:58:03.62\n",
        "\n"
       ]
      },
      {
       "output_type": "stream",
       "stream": "stdout",
       "text": [
        "La leggenda del pianista sull'oceano - The Legend of 1900 [BDRip-720p-Ita-Eng-Sub-Ita-Eng-Chapters][RiP By MaX].mkv\n",
        "10183 sec\n",
        "4698408634\n",
        "FAIL 3691\n",
        "169\n",
        "536 1280\n",
        "02:49:43.46\n",
        "\n"
       ]
      },
      {
       "output_type": "stream",
       "stream": "stdout",
       "text": [
        "The.Fountain.2006.1080p.BluRay.x264.anoXmous_.mp4\n",
        "5794 sec\n",
        "1690706940\n",
        "1825 2334\n",
        "96\n",
        "1080 1920\n",
        "01:36:34.54\n",
        "\n",
        "The.Lego.Movie.2014.1080p.BluRay.x264.YIFY.mp4\n",
        "6035 sec\n",
        "1549304450\n",
        "1955 2053\n",
        "100\n",
        "800 1920\n",
        "01:40:35.39\n",
        "\n"
       ]
      },
      {
       "output_type": "stream",
       "stream": "stdout",
       "text": [
        "Tuesday.After.Christmas.2010.720p.WEB-DL.H264-WEBiOS.mkv\n",
        "5999 sec\n",
        "3410953949\n",
        "FAIL 4548\n",
        "99\n",
        "544 1280\n",
        "01:39:59.14\n"
       ]
      }
     ],
     "prompt_number": 33
    },
    {
     "cell_type": "code",
     "collapsed": false,
     "input": [
      "print files[0][3]"
     ],
     "language": "python",
     "metadata": {},
     "outputs": [
      {
       "output_type": "stream",
       "stream": "stdout",
       "text": [
        "('Eight.And.A.Half.1963.720p.BluRay.x264-DiMENSiON [PublicHD].mkv', '7.95 GB', 'C:\\\\Users\\\\Usuario\\\\Downloads\\\\Filmes\\\\N\\xe3o Vistos\\\\Eight.And.A.Half.1963.720p.BluRay.x264-DiMENSiON [PublicHD]\\\\Eight.And.A.Half.1963.720p.BluRay.x264-DiMENSiON [PublicHD].mkv')\n"
       ]
      }
     ],
     "prompt_number": 10
    },
    {
     "cell_type": "code",
     "collapsed": false,
     "input": [
      "import time"
     ],
     "language": "python",
     "metadata": {},
     "outputs": [],
     "prompt_number": 13
    },
    {
     "cell_type": "code",
     "collapsed": false,
     "input": [],
     "language": "python",
     "metadata": {},
     "outputs": []
    }
   ],
   "metadata": {}
  }
 ]
}