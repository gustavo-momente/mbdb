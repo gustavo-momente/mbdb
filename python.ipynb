{
 "metadata": {
  "name": "",
  "signature": "sha256:711fded35eb403b12bd28159710b00777e8af86644f34a7ad9007e965a39e260"
 },
 "nbformat": 3,
 "nbformat_minor": 0,
 "worksheets": [
  {
   "cells": [
    {
     "cell_type": "code",
     "collapsed": false,
     "input": [
      "#! python\n",
      "# -*- coding: latin-1 -*-\n",
      "import os\n",
      "from guessit import guess_file_info\n",
      "import codecs\n",
      "import enzyme\n",
      "import json\n",
      "import re"
     ],
     "language": "python",
     "metadata": {},
     "outputs": [],
     "prompt_number": 38
    },
    {
     "cell_type": "code",
     "collapsed": false,
     "input": [
      "def get_files(folder, checked_files=[], file_types=[\".mp4\", \".mkv\"], min_size=long(50000000)):\n",
      "    files = []\n",
      "    for root, dirs, _files in os.walk(folder):\n",
      "        for name in _files:\n",
      "            if os.path.join(root, name) not in checked_files:\n",
      "                for ftype in file_types:\n",
      "                    if name.endswith(ftype):\n",
      "                        if os.path.getsize(os.path.join(root, name)) > min_size:\n",
      "                            files.append(name)\n",
      "                        break\n",
      "    \n",
      "    return files"
     ],
     "language": "python",
     "metadata": {},
     "outputs": [],
     "prompt_number": 39
    },
    {
     "cell_type": "code",
     "collapsed": false,
     "input": [
      "def get_data(files):\n",
      "    prog = re.compile('sample', flags=re.IGNORECASE)\n",
      "    jdata = []\n",
      "    data_keys = ['container', 'screenSize', 'format', 'releaseGroup']\n",
      "    json_keys = {'container' : \"fileType\", 'screenSize' : \"resolution\", 'format' : \"format\", 'releaseGroup' : \"releaseGroup\"}\n",
      "    for x in files:\n",
      "        tmp = guess_file_info(x, type='movie')\n",
      "        tdic = {}\n",
      "        try:\n",
      "            title = tmp['title']\n",
      "        except KeyError as e:\n",
      "            print x\n",
      "            print tmp.nice_string()\n",
      "        try:\n",
      "            rg = tmp['releaseGroup']\n",
      "            aws = prog.search(rg)\n",
      "            if aws:\n",
      "                continue\n",
      "        except KeyError:\n",
      "            pass\n",
      "\n",
      "        tdic['movie'] = title\n",
      "        tdic['fileName'] = x\n",
      "        for key in data_keys:\n",
      "            try:\n",
      "                tdic[json_keys[key]] = tmp[key]\n",
      "            except KeyError:\n",
      "                tdic[json_keys[key]] = \"\"\n",
      "        jdata.append(tdic)\n",
      "    return jdata"
     ],
     "language": "python",
     "metadata": {},
     "outputs": [],
     "prompt_number": 48
    },
    {
     "cell_type": "code",
     "collapsed": false,
     "input": [
      "folder = r\"C:\\Users\\Usuario\\Downloads\\Filmes\"\n",
      "files = get_files(folder) + get_files(r\"F:\\Backup\\Bibliotecas\\Filmes\\Vistos\") \n",
      "jdata = get_data(files)"
     ],
     "language": "python",
     "metadata": {},
     "outputs": [],
     "prompt_number": 49
    },
    {
     "cell_type": "code",
     "collapsed": false,
     "input": [
      "aa = json.dumps(jdata, sort_keys = True, indent = 4, ensure_ascii=False)\n",
      "json.dump(jdata, codecs.open('mov_html/json_data/mvdata.json', 'w', 'utf-8'), sort_keys = True, indent = 4, ensure_ascii=False)"
     ],
     "language": "python",
     "metadata": {},
     "outputs": [],
     "prompt_number": 50
    },
    {
     "cell_type": "code",
     "collapsed": false,
     "input": [],
     "language": "python",
     "metadata": {},
     "outputs": []
    }
   ],
   "metadata": {}
  }
 ]
}